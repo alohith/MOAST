{
 "cells": [
  {
   "cell_type": "code",
   "execution_count": 1,
   "id": "d97e07ba",
   "metadata": {},
   "outputs": [],
   "source": [
    "import copy\n",
    "\n",
    "import matplotlib.pyplot as plt\n",
    "import numpy as np\n",
    "import pandas as pd\n",
    "import torch\n",
    "import torch.nn as nn\n",
    "import torch.optim as optim\n",
    "import tqdm\n",
    "from sklearn.model_selection import train_test_split\n",
    "from sklearn.preprocessing import OneHotEncoder"
   ]
  },
  {
   "cell_type": "code",
   "execution_count": 14,
   "id": "43962058",
   "metadata": {},
   "outputs": [],
   "source": [
    "# read data and apply one-hot encoding\n",
    "# data = pd.read_csv(\"iris.csv\", header=None)\n",
    "# X = data.iloc[:, 0:4]\n",
    "# y = data.iloc[:, 4:]\n",
    "# ohe = OneHotEncoder(sparse=False).fit(y)\n",
    "# # y = ohe.transform(y)\n",
    "\n",
    "# # from sklearn.preprocessing import OneHotEncoder\n",
    "# # ohe = OneHotEncoder(handle_unknown='ignore', sparse_output=False).fit(y)\n",
    "# # print(ohe.categories_)\n",
    "\n",
    "# y = ohe.transform(y)\n",
    "# print(y)\n",
    "\n",
    "TargetMol_DMSO_PMA_df = pd.read_csv('../../../TargetMol-CP3/TargetMol-CP3/CP3-TargetMol/TargetMol_DMSO+PMA_HistDiff_concat_UPDATED-20231026.csv',index_col=0)\n"
   ]
  },
  {
   "cell_type": "code",
   "execution_count": 15,
   "id": "dd9c6fee",
   "metadata": {},
   "outputs": [
    {
     "data": {
      "text/html": [
       "<div>\n",
       "<style scoped>\n",
       "    .dataframe tbody tr th:only-of-type {\n",
       "        vertical-align: middle;\n",
       "    }\n",
       "\n",
       "    .dataframe tbody tr th {\n",
       "        vertical-align: top;\n",
       "    }\n",
       "\n",
       "    .dataframe thead th {\n",
       "        text-align: right;\n",
       "    }\n",
       "</style>\n",
       "<table border=\"1\" class=\"dataframe\">\n",
       "  <thead>\n",
       "    <tr style=\"text-align: right;\">\n",
       "      <th></th>\n",
       "      <th>Nuclei-Intensity_Nucleus_Region_HOECHST_33342_expanded_Mean</th>\n",
       "      <th>Nuclei-Intensity_Nucleus_Region_HOECHST_33342_expanded_StdDev</th>\n",
       "      <th>Nuclei-Intensity_Nucleus_Region_HOECHST_33342_expanded_Median</th>\n",
       "      <th>Nuclei-Intensity_Nucleus_Region_HOECHST_33342_expanded_Maximum</th>\n",
       "      <th>Nuclei-Intensity_Nucleus_Region_HOECHST_33342_expanded_Minimum</th>\n",
       "      <th>Nuclei-Intensity_Nucleus_Region_HOECHST_33342_expanded_Sum</th>\n",
       "      <th>Nuclei-Intensity_Nucleus_Region_HOECHST_33342_expanded_CV_[Pct]</th>\n",
       "      <th>Nuclei-Intensity_Nucleus_Region_HOECHST_33342_expanded_Quantile_90Pct</th>\n",
       "      <th>Nuclei-Intensity_Nucleus_Region_HOECHST_33342_expanded_Contrast</th>\n",
       "      <th>Nuclei-Nucleus_Region_Area_[um^2]</th>\n",
       "      <th>...</th>\n",
       "      <th>Nuclei-Membrane_Region_MitoTracker_Deep_Red_SER_Valley_2_px</th>\n",
       "      <th>Nuclei-Membrane_Region_MitoTracker_Deep_Red_SER_Saddle_2_px</th>\n",
       "      <th>Nuclei-Membrane_Region_MitoTracker_Deep_Red_SER_Bright_2_px</th>\n",
       "      <th>Nuclei-Membrane_Region_MitoTracker_Deep_Red_SER_Dark_2_px</th>\n",
       "      <th>Nuclei-Membrane_Region_MitoTracker_Deep_Red_Haralick_Correlation_2_px</th>\n",
       "      <th>Nuclei-Membrane_Region_MitoTracker_Deep_Red_Haralick_Contrast_2_px</th>\n",
       "      <th>Nuclei-Membrane_Region_MitoTracker_Deep_Red_Haralick_Sum_Variance_2_px</th>\n",
       "      <th>Nuclei-Membrane_Region_MitoTracker_Deep_Red_Haralick_Homogeneity_2_px</th>\n",
       "      <th>Nuclei-Membrane_Region_MitoTracker_Deep_Red_Gabor_Min_2_px_w2</th>\n",
       "      <th>Nuclei-Membrane_Region_MitoTracker_Deep_Red_Gabor_Max_2_px_w2</th>\n",
       "    </tr>\n",
       "  </thead>\n",
       "  <tbody>\n",
       "    <tr>\n",
       "      <th>F15._.TargetMol_09_rep1</th>\n",
       "      <td>-0.023018</td>\n",
       "      <td>-0.000627</td>\n",
       "      <td>-0.013967</td>\n",
       "      <td>-0.023206</td>\n",
       "      <td>-0.027200</td>\n",
       "      <td>0.000000</td>\n",
       "      <td>-0.016361</td>\n",
       "      <td>-0.012396</td>\n",
       "      <td>-0.038797</td>\n",
       "      <td>0.006155</td>\n",
       "      <td>...</td>\n",
       "      <td>0.019312</td>\n",
       "      <td>0.018275</td>\n",
       "      <td>0.013980</td>\n",
       "      <td>0.017754</td>\n",
       "      <td>-0.000120</td>\n",
       "      <td>0.000785</td>\n",
       "      <td>0.026411</td>\n",
       "      <td>-0.033172</td>\n",
       "      <td>0.058362</td>\n",
       "      <td>0.050031</td>\n",
       "    </tr>\n",
       "    <tr>\n",
       "      <th>E08._.TargetMol_09_rep1</th>\n",
       "      <td>-0.001458</td>\n",
       "      <td>-0.000134</td>\n",
       "      <td>-0.000768</td>\n",
       "      <td>-0.001583</td>\n",
       "      <td>-0.001291</td>\n",
       "      <td>0.000000</td>\n",
       "      <td>-0.004660</td>\n",
       "      <td>-0.000753</td>\n",
       "      <td>-0.000789</td>\n",
       "      <td>-0.000080</td>\n",
       "      <td>...</td>\n",
       "      <td>-0.000294</td>\n",
       "      <td>-0.000201</td>\n",
       "      <td>-0.000510</td>\n",
       "      <td>-0.000304</td>\n",
       "      <td>-0.000042</td>\n",
       "      <td>0.000048</td>\n",
       "      <td>-0.000164</td>\n",
       "      <td>0.000804</td>\n",
       "      <td>-0.003375</td>\n",
       "      <td>-0.002612</td>\n",
       "    </tr>\n",
       "    <tr>\n",
       "      <th>B19._.TargetMol_09_rep1</th>\n",
       "      <td>-0.001428</td>\n",
       "      <td>0.000003</td>\n",
       "      <td>-0.000053</td>\n",
       "      <td>-0.001329</td>\n",
       "      <td>-0.001647</td>\n",
       "      <td>0.000000</td>\n",
       "      <td>0.000076</td>\n",
       "      <td>-0.000156</td>\n",
       "      <td>0.000093</td>\n",
       "      <td>-0.000053</td>\n",
       "      <td>...</td>\n",
       "      <td>0.000096</td>\n",
       "      <td>0.000122</td>\n",
       "      <td>-0.000074</td>\n",
       "      <td>0.000406</td>\n",
       "      <td>0.000113</td>\n",
       "      <td>0.000012</td>\n",
       "      <td>0.000188</td>\n",
       "      <td>-0.000171</td>\n",
       "      <td>-0.000919</td>\n",
       "      <td>-0.000805</td>\n",
       "    </tr>\n",
       "    <tr>\n",
       "      <th>C12._.TargetMol_09_rep1</th>\n",
       "      <td>-0.001418</td>\n",
       "      <td>-0.000141</td>\n",
       "      <td>-0.000144</td>\n",
       "      <td>-0.000390</td>\n",
       "      <td>-0.000139</td>\n",
       "      <td>0.000000</td>\n",
       "      <td>-0.001255</td>\n",
       "      <td>-0.000190</td>\n",
       "      <td>-0.000131</td>\n",
       "      <td>0.000011</td>\n",
       "      <td>...</td>\n",
       "      <td>-0.000759</td>\n",
       "      <td>-0.000132</td>\n",
       "      <td>-0.000505</td>\n",
       "      <td>-0.000499</td>\n",
       "      <td>-0.000066</td>\n",
       "      <td>0.000008</td>\n",
       "      <td>-0.000095</td>\n",
       "      <td>0.001855</td>\n",
       "      <td>-0.004164</td>\n",
       "      <td>-0.002819</td>\n",
       "    </tr>\n",
       "    <tr>\n",
       "      <th>G01._.TargetMol_09_rep1</th>\n",
       "      <td>0.000485</td>\n",
       "      <td>0.000249</td>\n",
       "      <td>0.000488</td>\n",
       "      <td>0.000414</td>\n",
       "      <td>0.000061</td>\n",
       "      <td>0.000000</td>\n",
       "      <td>0.002202</td>\n",
       "      <td>0.000619</td>\n",
       "      <td>0.007479</td>\n",
       "      <td>-0.001683</td>\n",
       "      <td>...</td>\n",
       "      <td>0.002220</td>\n",
       "      <td>0.001206</td>\n",
       "      <td>0.001604</td>\n",
       "      <td>0.002211</td>\n",
       "      <td>0.001015</td>\n",
       "      <td>0.000188</td>\n",
       "      <td>0.001717</td>\n",
       "      <td>-0.002011</td>\n",
       "      <td>-0.000013</td>\n",
       "      <td>0.000011</td>\n",
       "    </tr>\n",
       "    <tr>\n",
       "      <th>...</th>\n",
       "      <td>...</td>\n",
       "      <td>...</td>\n",
       "      <td>...</td>\n",
       "      <td>...</td>\n",
       "      <td>...</td>\n",
       "      <td>...</td>\n",
       "      <td>...</td>\n",
       "      <td>...</td>\n",
       "      <td>...</td>\n",
       "      <td>...</td>\n",
       "      <td>...</td>\n",
       "      <td>...</td>\n",
       "      <td>...</td>\n",
       "      <td>...</td>\n",
       "      <td>...</td>\n",
       "      <td>...</td>\n",
       "      <td>...</td>\n",
       "      <td>...</td>\n",
       "      <td>...</td>\n",
       "      <td>...</td>\n",
       "      <td>...</td>\n",
       "    </tr>\n",
       "    <tr>\n",
       "      <th>E09._.TargetMol_27PMA_rep1</th>\n",
       "      <td>0.001480</td>\n",
       "      <td>0.000536</td>\n",
       "      <td>0.001984</td>\n",
       "      <td>0.003714</td>\n",
       "      <td>0.003234</td>\n",
       "      <td>0.001103</td>\n",
       "      <td>-0.000546</td>\n",
       "      <td>0.001238</td>\n",
       "      <td>0.004090</td>\n",
       "      <td>0.001161</td>\n",
       "      <td>...</td>\n",
       "      <td>-0.000338</td>\n",
       "      <td>-0.001211</td>\n",
       "      <td>-0.000287</td>\n",
       "      <td>-0.000263</td>\n",
       "      <td>0.000522</td>\n",
       "      <td>0.000197</td>\n",
       "      <td>0.000790</td>\n",
       "      <td>0.001063</td>\n",
       "      <td>-0.000802</td>\n",
       "      <td>-0.001298</td>\n",
       "    </tr>\n",
       "    <tr>\n",
       "      <th>N16._.TargetMol_27PMA_rep1</th>\n",
       "      <td>0.000985</td>\n",
       "      <td>-0.000093</td>\n",
       "      <td>-0.000270</td>\n",
       "      <td>-0.000079</td>\n",
       "      <td>0.000203</td>\n",
       "      <td>0.000158</td>\n",
       "      <td>0.000200</td>\n",
       "      <td>-0.000160</td>\n",
       "      <td>-0.001012</td>\n",
       "      <td>-0.000125</td>\n",
       "      <td>...</td>\n",
       "      <td>0.000244</td>\n",
       "      <td>0.001117</td>\n",
       "      <td>0.000975</td>\n",
       "      <td>-0.000158</td>\n",
       "      <td>-0.001174</td>\n",
       "      <td>0.001397</td>\n",
       "      <td>-0.000160</td>\n",
       "      <td>-0.001273</td>\n",
       "      <td>0.000981</td>\n",
       "      <td>0.001614</td>\n",
       "    </tr>\n",
       "    <tr>\n",
       "      <th>L05._.TargetMol_27PMA_rep1</th>\n",
       "      <td>0.000321</td>\n",
       "      <td>-0.001211</td>\n",
       "      <td>-0.000992</td>\n",
       "      <td>-0.000677</td>\n",
       "      <td>-0.001543</td>\n",
       "      <td>0.005264</td>\n",
       "      <td>-0.011616</td>\n",
       "      <td>-0.000380</td>\n",
       "      <td>-0.028896</td>\n",
       "      <td>0.022583</td>\n",
       "      <td>...</td>\n",
       "      <td>-0.306248</td>\n",
       "      <td>-0.330332</td>\n",
       "      <td>-0.050489</td>\n",
       "      <td>-0.299820</td>\n",
       "      <td>0.138208</td>\n",
       "      <td>-0.169100</td>\n",
       "      <td>-0.018886</td>\n",
       "      <td>0.214171</td>\n",
       "      <td>-0.076240</td>\n",
       "      <td>-0.102679</td>\n",
       "    </tr>\n",
       "    <tr>\n",
       "      <th>J18._.TargetMol_27PMA_rep1</th>\n",
       "      <td>-0.000111</td>\n",
       "      <td>-0.004516</td>\n",
       "      <td>-0.000372</td>\n",
       "      <td>-0.000770</td>\n",
       "      <td>-0.000030</td>\n",
       "      <td>-0.000451</td>\n",
       "      <td>-0.010148</td>\n",
       "      <td>-0.001540</td>\n",
       "      <td>-0.016748</td>\n",
       "      <td>-0.000391</td>\n",
       "      <td>...</td>\n",
       "      <td>0.007084</td>\n",
       "      <td>-0.020235</td>\n",
       "      <td>-0.018078</td>\n",
       "      <td>0.005119</td>\n",
       "      <td>0.013297</td>\n",
       "      <td>-0.000739</td>\n",
       "      <td>0.003184</td>\n",
       "      <td>0.015241</td>\n",
       "      <td>0.018912</td>\n",
       "      <td>0.004949</td>\n",
       "    </tr>\n",
       "    <tr>\n",
       "      <th>E18._.TargetMol_27PMA_rep1</th>\n",
       "      <td>0.001643</td>\n",
       "      <td>0.000230</td>\n",
       "      <td>0.000614</td>\n",
       "      <td>0.000760</td>\n",
       "      <td>0.000933</td>\n",
       "      <td>0.001167</td>\n",
       "      <td>0.000014</td>\n",
       "      <td>0.000231</td>\n",
       "      <td>0.001400</td>\n",
       "      <td>0.000772</td>\n",
       "      <td>...</td>\n",
       "      <td>-0.002067</td>\n",
       "      <td>-0.001766</td>\n",
       "      <td>0.000235</td>\n",
       "      <td>-0.002354</td>\n",
       "      <td>0.001547</td>\n",
       "      <td>-0.001496</td>\n",
       "      <td>-0.000019</td>\n",
       "      <td>0.001330</td>\n",
       "      <td>0.000944</td>\n",
       "      <td>-0.000563</td>\n",
       "    </tr>\n",
       "  </tbody>\n",
       "</table>\n",
       "<p>23036 rows × 5880 columns</p>\n",
       "</div>"
      ],
      "text/plain": [
       "                            Nuclei-Intensity_Nucleus_Region_HOECHST_33342_expanded_Mean  \\\n",
       "F15._.TargetMol_09_rep1                                             -0.023018             \n",
       "E08._.TargetMol_09_rep1                                             -0.001458             \n",
       "B19._.TargetMol_09_rep1                                             -0.001428             \n",
       "C12._.TargetMol_09_rep1                                             -0.001418             \n",
       "G01._.TargetMol_09_rep1                                              0.000485             \n",
       "...                                                                       ...             \n",
       "E09._.TargetMol_27PMA_rep1                                           0.001480             \n",
       "N16._.TargetMol_27PMA_rep1                                           0.000985             \n",
       "L05._.TargetMol_27PMA_rep1                                           0.000321             \n",
       "J18._.TargetMol_27PMA_rep1                                          -0.000111             \n",
       "E18._.TargetMol_27PMA_rep1                                           0.001643             \n",
       "\n",
       "                            Nuclei-Intensity_Nucleus_Region_HOECHST_33342_expanded_StdDev  \\\n",
       "F15._.TargetMol_09_rep1                                             -0.000627               \n",
       "E08._.TargetMol_09_rep1                                             -0.000134               \n",
       "B19._.TargetMol_09_rep1                                              0.000003               \n",
       "C12._.TargetMol_09_rep1                                             -0.000141               \n",
       "G01._.TargetMol_09_rep1                                              0.000249               \n",
       "...                                                                       ...               \n",
       "E09._.TargetMol_27PMA_rep1                                           0.000536               \n",
       "N16._.TargetMol_27PMA_rep1                                          -0.000093               \n",
       "L05._.TargetMol_27PMA_rep1                                          -0.001211               \n",
       "J18._.TargetMol_27PMA_rep1                                          -0.004516               \n",
       "E18._.TargetMol_27PMA_rep1                                           0.000230               \n",
       "\n",
       "                            Nuclei-Intensity_Nucleus_Region_HOECHST_33342_expanded_Median  \\\n",
       "F15._.TargetMol_09_rep1                                             -0.013967               \n",
       "E08._.TargetMol_09_rep1                                             -0.000768               \n",
       "B19._.TargetMol_09_rep1                                             -0.000053               \n",
       "C12._.TargetMol_09_rep1                                             -0.000144               \n",
       "G01._.TargetMol_09_rep1                                              0.000488               \n",
       "...                                                                       ...               \n",
       "E09._.TargetMol_27PMA_rep1                                           0.001984               \n",
       "N16._.TargetMol_27PMA_rep1                                          -0.000270               \n",
       "L05._.TargetMol_27PMA_rep1                                          -0.000992               \n",
       "J18._.TargetMol_27PMA_rep1                                          -0.000372               \n",
       "E18._.TargetMol_27PMA_rep1                                           0.000614               \n",
       "\n",
       "                            Nuclei-Intensity_Nucleus_Region_HOECHST_33342_expanded_Maximum  \\\n",
       "F15._.TargetMol_09_rep1                                             -0.023206                \n",
       "E08._.TargetMol_09_rep1                                             -0.001583                \n",
       "B19._.TargetMol_09_rep1                                             -0.001329                \n",
       "C12._.TargetMol_09_rep1                                             -0.000390                \n",
       "G01._.TargetMol_09_rep1                                              0.000414                \n",
       "...                                                                       ...                \n",
       "E09._.TargetMol_27PMA_rep1                                           0.003714                \n",
       "N16._.TargetMol_27PMA_rep1                                          -0.000079                \n",
       "L05._.TargetMol_27PMA_rep1                                          -0.000677                \n",
       "J18._.TargetMol_27PMA_rep1                                          -0.000770                \n",
       "E18._.TargetMol_27PMA_rep1                                           0.000760                \n",
       "\n",
       "                            Nuclei-Intensity_Nucleus_Region_HOECHST_33342_expanded_Minimum  \\\n",
       "F15._.TargetMol_09_rep1                                             -0.027200                \n",
       "E08._.TargetMol_09_rep1                                             -0.001291                \n",
       "B19._.TargetMol_09_rep1                                             -0.001647                \n",
       "C12._.TargetMol_09_rep1                                             -0.000139                \n",
       "G01._.TargetMol_09_rep1                                              0.000061                \n",
       "...                                                                       ...                \n",
       "E09._.TargetMol_27PMA_rep1                                           0.003234                \n",
       "N16._.TargetMol_27PMA_rep1                                           0.000203                \n",
       "L05._.TargetMol_27PMA_rep1                                          -0.001543                \n",
       "J18._.TargetMol_27PMA_rep1                                          -0.000030                \n",
       "E18._.TargetMol_27PMA_rep1                                           0.000933                \n",
       "\n",
       "                            Nuclei-Intensity_Nucleus_Region_HOECHST_33342_expanded_Sum  \\\n",
       "F15._.TargetMol_09_rep1                                              0.000000            \n",
       "E08._.TargetMol_09_rep1                                              0.000000            \n",
       "B19._.TargetMol_09_rep1                                              0.000000            \n",
       "C12._.TargetMol_09_rep1                                              0.000000            \n",
       "G01._.TargetMol_09_rep1                                              0.000000            \n",
       "...                                                                       ...            \n",
       "E09._.TargetMol_27PMA_rep1                                           0.001103            \n",
       "N16._.TargetMol_27PMA_rep1                                           0.000158            \n",
       "L05._.TargetMol_27PMA_rep1                                           0.005264            \n",
       "J18._.TargetMol_27PMA_rep1                                          -0.000451            \n",
       "E18._.TargetMol_27PMA_rep1                                           0.001167            \n",
       "\n",
       "                            Nuclei-Intensity_Nucleus_Region_HOECHST_33342_expanded_CV_[Pct]  \\\n",
       "F15._.TargetMol_09_rep1                                             -0.016361                 \n",
       "E08._.TargetMol_09_rep1                                             -0.004660                 \n",
       "B19._.TargetMol_09_rep1                                              0.000076                 \n",
       "C12._.TargetMol_09_rep1                                             -0.001255                 \n",
       "G01._.TargetMol_09_rep1                                              0.002202                 \n",
       "...                                                                       ...                 \n",
       "E09._.TargetMol_27PMA_rep1                                          -0.000546                 \n",
       "N16._.TargetMol_27PMA_rep1                                           0.000200                 \n",
       "L05._.TargetMol_27PMA_rep1                                          -0.011616                 \n",
       "J18._.TargetMol_27PMA_rep1                                          -0.010148                 \n",
       "E18._.TargetMol_27PMA_rep1                                           0.000014                 \n",
       "\n",
       "                            Nuclei-Intensity_Nucleus_Region_HOECHST_33342_expanded_Quantile_90Pct  \\\n",
       "F15._.TargetMol_09_rep1                                             -0.012396                       \n",
       "E08._.TargetMol_09_rep1                                             -0.000753                       \n",
       "B19._.TargetMol_09_rep1                                             -0.000156                       \n",
       "C12._.TargetMol_09_rep1                                             -0.000190                       \n",
       "G01._.TargetMol_09_rep1                                              0.000619                       \n",
       "...                                                                       ...                       \n",
       "E09._.TargetMol_27PMA_rep1                                           0.001238                       \n",
       "N16._.TargetMol_27PMA_rep1                                          -0.000160                       \n",
       "L05._.TargetMol_27PMA_rep1                                          -0.000380                       \n",
       "J18._.TargetMol_27PMA_rep1                                          -0.001540                       \n",
       "E18._.TargetMol_27PMA_rep1                                           0.000231                       \n",
       "\n",
       "                            Nuclei-Intensity_Nucleus_Region_HOECHST_33342_expanded_Contrast  \\\n",
       "F15._.TargetMol_09_rep1                                             -0.038797                 \n",
       "E08._.TargetMol_09_rep1                                             -0.000789                 \n",
       "B19._.TargetMol_09_rep1                                              0.000093                 \n",
       "C12._.TargetMol_09_rep1                                             -0.000131                 \n",
       "G01._.TargetMol_09_rep1                                              0.007479                 \n",
       "...                                                                       ...                 \n",
       "E09._.TargetMol_27PMA_rep1                                           0.004090                 \n",
       "N16._.TargetMol_27PMA_rep1                                          -0.001012                 \n",
       "L05._.TargetMol_27PMA_rep1                                          -0.028896                 \n",
       "J18._.TargetMol_27PMA_rep1                                          -0.016748                 \n",
       "E18._.TargetMol_27PMA_rep1                                           0.001400                 \n",
       "\n",
       "                            Nuclei-Nucleus_Region_Area_[um^2]  ...  \\\n",
       "F15._.TargetMol_09_rep1                              0.006155  ...   \n",
       "E08._.TargetMol_09_rep1                             -0.000080  ...   \n",
       "B19._.TargetMol_09_rep1                             -0.000053  ...   \n",
       "C12._.TargetMol_09_rep1                              0.000011  ...   \n",
       "G01._.TargetMol_09_rep1                             -0.001683  ...   \n",
       "...                                                       ...  ...   \n",
       "E09._.TargetMol_27PMA_rep1                           0.001161  ...   \n",
       "N16._.TargetMol_27PMA_rep1                          -0.000125  ...   \n",
       "L05._.TargetMol_27PMA_rep1                           0.022583  ...   \n",
       "J18._.TargetMol_27PMA_rep1                          -0.000391  ...   \n",
       "E18._.TargetMol_27PMA_rep1                           0.000772  ...   \n",
       "\n",
       "                            Nuclei-Membrane_Region_MitoTracker_Deep_Red_SER_Valley_2_px  \\\n",
       "F15._.TargetMol_09_rep1                                              0.019312             \n",
       "E08._.TargetMol_09_rep1                                             -0.000294             \n",
       "B19._.TargetMol_09_rep1                                              0.000096             \n",
       "C12._.TargetMol_09_rep1                                             -0.000759             \n",
       "G01._.TargetMol_09_rep1                                              0.002220             \n",
       "...                                                                       ...             \n",
       "E09._.TargetMol_27PMA_rep1                                          -0.000338             \n",
       "N16._.TargetMol_27PMA_rep1                                           0.000244             \n",
       "L05._.TargetMol_27PMA_rep1                                          -0.306248             \n",
       "J18._.TargetMol_27PMA_rep1                                           0.007084             \n",
       "E18._.TargetMol_27PMA_rep1                                          -0.002067             \n",
       "\n",
       "                            Nuclei-Membrane_Region_MitoTracker_Deep_Red_SER_Saddle_2_px  \\\n",
       "F15._.TargetMol_09_rep1                                              0.018275             \n",
       "E08._.TargetMol_09_rep1                                             -0.000201             \n",
       "B19._.TargetMol_09_rep1                                              0.000122             \n",
       "C12._.TargetMol_09_rep1                                             -0.000132             \n",
       "G01._.TargetMol_09_rep1                                              0.001206             \n",
       "...                                                                       ...             \n",
       "E09._.TargetMol_27PMA_rep1                                          -0.001211             \n",
       "N16._.TargetMol_27PMA_rep1                                           0.001117             \n",
       "L05._.TargetMol_27PMA_rep1                                          -0.330332             \n",
       "J18._.TargetMol_27PMA_rep1                                          -0.020235             \n",
       "E18._.TargetMol_27PMA_rep1                                          -0.001766             \n",
       "\n",
       "                            Nuclei-Membrane_Region_MitoTracker_Deep_Red_SER_Bright_2_px  \\\n",
       "F15._.TargetMol_09_rep1                                              0.013980             \n",
       "E08._.TargetMol_09_rep1                                             -0.000510             \n",
       "B19._.TargetMol_09_rep1                                             -0.000074             \n",
       "C12._.TargetMol_09_rep1                                             -0.000505             \n",
       "G01._.TargetMol_09_rep1                                              0.001604             \n",
       "...                                                                       ...             \n",
       "E09._.TargetMol_27PMA_rep1                                          -0.000287             \n",
       "N16._.TargetMol_27PMA_rep1                                           0.000975             \n",
       "L05._.TargetMol_27PMA_rep1                                          -0.050489             \n",
       "J18._.TargetMol_27PMA_rep1                                          -0.018078             \n",
       "E18._.TargetMol_27PMA_rep1                                           0.000235             \n",
       "\n",
       "                            Nuclei-Membrane_Region_MitoTracker_Deep_Red_SER_Dark_2_px  \\\n",
       "F15._.TargetMol_09_rep1                                              0.017754           \n",
       "E08._.TargetMol_09_rep1                                             -0.000304           \n",
       "B19._.TargetMol_09_rep1                                              0.000406           \n",
       "C12._.TargetMol_09_rep1                                             -0.000499           \n",
       "G01._.TargetMol_09_rep1                                              0.002211           \n",
       "...                                                                       ...           \n",
       "E09._.TargetMol_27PMA_rep1                                          -0.000263           \n",
       "N16._.TargetMol_27PMA_rep1                                          -0.000158           \n",
       "L05._.TargetMol_27PMA_rep1                                          -0.299820           \n",
       "J18._.TargetMol_27PMA_rep1                                           0.005119           \n",
       "E18._.TargetMol_27PMA_rep1                                          -0.002354           \n",
       "\n",
       "                            Nuclei-Membrane_Region_MitoTracker_Deep_Red_Haralick_Correlation_2_px  \\\n",
       "F15._.TargetMol_09_rep1                                             -0.000120                       \n",
       "E08._.TargetMol_09_rep1                                             -0.000042                       \n",
       "B19._.TargetMol_09_rep1                                              0.000113                       \n",
       "C12._.TargetMol_09_rep1                                             -0.000066                       \n",
       "G01._.TargetMol_09_rep1                                              0.001015                       \n",
       "...                                                                       ...                       \n",
       "E09._.TargetMol_27PMA_rep1                                           0.000522                       \n",
       "N16._.TargetMol_27PMA_rep1                                          -0.001174                       \n",
       "L05._.TargetMol_27PMA_rep1                                           0.138208                       \n",
       "J18._.TargetMol_27PMA_rep1                                           0.013297                       \n",
       "E18._.TargetMol_27PMA_rep1                                           0.001547                       \n",
       "\n",
       "                            Nuclei-Membrane_Region_MitoTracker_Deep_Red_Haralick_Contrast_2_px  \\\n",
       "F15._.TargetMol_09_rep1                                              0.000785                    \n",
       "E08._.TargetMol_09_rep1                                              0.000048                    \n",
       "B19._.TargetMol_09_rep1                                              0.000012                    \n",
       "C12._.TargetMol_09_rep1                                              0.000008                    \n",
       "G01._.TargetMol_09_rep1                                              0.000188                    \n",
       "...                                                                       ...                    \n",
       "E09._.TargetMol_27PMA_rep1                                           0.000197                    \n",
       "N16._.TargetMol_27PMA_rep1                                           0.001397                    \n",
       "L05._.TargetMol_27PMA_rep1                                          -0.169100                    \n",
       "J18._.TargetMol_27PMA_rep1                                          -0.000739                    \n",
       "E18._.TargetMol_27PMA_rep1                                          -0.001496                    \n",
       "\n",
       "                            Nuclei-Membrane_Region_MitoTracker_Deep_Red_Haralick_Sum_Variance_2_px  \\\n",
       "F15._.TargetMol_09_rep1                                              0.026411                        \n",
       "E08._.TargetMol_09_rep1                                             -0.000164                        \n",
       "B19._.TargetMol_09_rep1                                              0.000188                        \n",
       "C12._.TargetMol_09_rep1                                             -0.000095                        \n",
       "G01._.TargetMol_09_rep1                                              0.001717                        \n",
       "...                                                                       ...                        \n",
       "E09._.TargetMol_27PMA_rep1                                           0.000790                        \n",
       "N16._.TargetMol_27PMA_rep1                                          -0.000160                        \n",
       "L05._.TargetMol_27PMA_rep1                                          -0.018886                        \n",
       "J18._.TargetMol_27PMA_rep1                                           0.003184                        \n",
       "E18._.TargetMol_27PMA_rep1                                          -0.000019                        \n",
       "\n",
       "                            Nuclei-Membrane_Region_MitoTracker_Deep_Red_Haralick_Homogeneity_2_px  \\\n",
       "F15._.TargetMol_09_rep1                                             -0.033172                       \n",
       "E08._.TargetMol_09_rep1                                              0.000804                       \n",
       "B19._.TargetMol_09_rep1                                             -0.000171                       \n",
       "C12._.TargetMol_09_rep1                                              0.001855                       \n",
       "G01._.TargetMol_09_rep1                                             -0.002011                       \n",
       "...                                                                       ...                       \n",
       "E09._.TargetMol_27PMA_rep1                                           0.001063                       \n",
       "N16._.TargetMol_27PMA_rep1                                          -0.001273                       \n",
       "L05._.TargetMol_27PMA_rep1                                           0.214171                       \n",
       "J18._.TargetMol_27PMA_rep1                                           0.015241                       \n",
       "E18._.TargetMol_27PMA_rep1                                           0.001330                       \n",
       "\n",
       "                            Nuclei-Membrane_Region_MitoTracker_Deep_Red_Gabor_Min_2_px_w2  \\\n",
       "F15._.TargetMol_09_rep1                                              0.058362               \n",
       "E08._.TargetMol_09_rep1                                             -0.003375               \n",
       "B19._.TargetMol_09_rep1                                             -0.000919               \n",
       "C12._.TargetMol_09_rep1                                             -0.004164               \n",
       "G01._.TargetMol_09_rep1                                             -0.000013               \n",
       "...                                                                       ...               \n",
       "E09._.TargetMol_27PMA_rep1                                          -0.000802               \n",
       "N16._.TargetMol_27PMA_rep1                                           0.000981               \n",
       "L05._.TargetMol_27PMA_rep1                                          -0.076240               \n",
       "J18._.TargetMol_27PMA_rep1                                           0.018912               \n",
       "E18._.TargetMol_27PMA_rep1                                           0.000944               \n",
       "\n",
       "                            Nuclei-Membrane_Region_MitoTracker_Deep_Red_Gabor_Max_2_px_w2  \n",
       "F15._.TargetMol_09_rep1                                              0.050031              \n",
       "E08._.TargetMol_09_rep1                                             -0.002612              \n",
       "B19._.TargetMol_09_rep1                                             -0.000805              \n",
       "C12._.TargetMol_09_rep1                                             -0.002819              \n",
       "G01._.TargetMol_09_rep1                                              0.000011              \n",
       "...                                                                       ...              \n",
       "E09._.TargetMol_27PMA_rep1                                          -0.001298              \n",
       "N16._.TargetMol_27PMA_rep1                                           0.001614              \n",
       "L05._.TargetMol_27PMA_rep1                                          -0.102679              \n",
       "J18._.TargetMol_27PMA_rep1                                           0.004949              \n",
       "E18._.TargetMol_27PMA_rep1                                          -0.000563              \n",
       "\n",
       "[23036 rows x 5880 columns]"
      ]
     },
     "metadata": {},
     "output_type": "display_data"
    }
   ],
   "source": [
    "display(TargetMol_DMSO_PMA_df)"
   ]
  },
  {
   "cell_type": "code",
   "execution_count": 16,
   "id": "5356b4b6",
   "metadata": {},
   "outputs": [],
   "source": [
    "Key = pd.read_csv('../../../TargetMol-CP3/TargetMol-CP3/CP3-TargetMol/L4000-Bioactive Compound Library-Beverley Rabbitts (KIT10006535)_MapCleaned3_KSready2.csv',index_col='unambiguous_name')"
   ]
  },
  {
   "cell_type": "code",
   "execution_count": 18,
   "id": "ac51744a",
   "metadata": {},
   "outputs": [
    {
     "data": {
      "text/plain": [
       "unambiguous_name\n",
       "A01._.TargetMol_01_rep1              DMSO\n",
       "A02._.TargetMol_01_rep1         Apoptosis\n",
       "A03._.TargetMol_01_rep1               FAK\n",
       "A04._.TargetMol_01_rep1              DMSO\n",
       "A05._.TargetMol_01_rep1            Myosin\n",
       "                                 ...     \n",
       "P20._.TargetMol_28PMA_rep1    NPF-Hexagon\n",
       "P21._.TargetMol_28PMA_rep1    NPF-Hexagon\n",
       "P22._.TargetMol_28PMA_rep1    NPF-Hexagon\n",
       "P23._.TargetMol_28PMA_rep1    NPF-Hexagon\n",
       "P24._.TargetMol_28PMA_rep1       DMSO+PMA\n",
       "Name: Target, Length: 23792, dtype: object"
      ]
     },
     "metadata": {},
     "output_type": "display_data"
    }
   ],
   "source": [
    "display(Key['Target'])"
   ]
  },
  {
   "cell_type": "code",
   "execution_count": 19,
   "id": "3a82a05f",
   "metadata": {},
   "outputs": [],
   "source": [
    "combined = pd.merge(left=TargetMol_DMSO_PMA_df,right=Key['Target'],left_index=True,right_index=True)"
   ]
  },
  {
   "cell_type": "code",
   "execution_count": 20,
   "id": "7eff8531",
   "metadata": {},
   "outputs": [
    {
     "data": {
      "text/html": [
       "<div>\n",
       "<style scoped>\n",
       "    .dataframe tbody tr th:only-of-type {\n",
       "        vertical-align: middle;\n",
       "    }\n",
       "\n",
       "    .dataframe tbody tr th {\n",
       "        vertical-align: top;\n",
       "    }\n",
       "\n",
       "    .dataframe thead th {\n",
       "        text-align: right;\n",
       "    }\n",
       "</style>\n",
       "<table border=\"1\" class=\"dataframe\">\n",
       "  <thead>\n",
       "    <tr style=\"text-align: right;\">\n",
       "      <th></th>\n",
       "      <th>Nuclei-Intensity_Nucleus_Region_HOECHST_33342_expanded_Mean</th>\n",
       "      <th>Nuclei-Intensity_Nucleus_Region_HOECHST_33342_expanded_StdDev</th>\n",
       "      <th>Nuclei-Intensity_Nucleus_Region_HOECHST_33342_expanded_Median</th>\n",
       "      <th>Nuclei-Intensity_Nucleus_Region_HOECHST_33342_expanded_Maximum</th>\n",
       "      <th>Nuclei-Intensity_Nucleus_Region_HOECHST_33342_expanded_Minimum</th>\n",
       "      <th>Nuclei-Intensity_Nucleus_Region_HOECHST_33342_expanded_Sum</th>\n",
       "      <th>Nuclei-Intensity_Nucleus_Region_HOECHST_33342_expanded_CV_[Pct]</th>\n",
       "      <th>Nuclei-Intensity_Nucleus_Region_HOECHST_33342_expanded_Quantile_90Pct</th>\n",
       "      <th>Nuclei-Intensity_Nucleus_Region_HOECHST_33342_expanded_Contrast</th>\n",
       "      <th>Nuclei-Nucleus_Region_Area_[um^2]</th>\n",
       "      <th>...</th>\n",
       "      <th>Nuclei-Membrane_Region_MitoTracker_Deep_Red_SER_Saddle_2_px</th>\n",
       "      <th>Nuclei-Membrane_Region_MitoTracker_Deep_Red_SER_Bright_2_px</th>\n",
       "      <th>Nuclei-Membrane_Region_MitoTracker_Deep_Red_SER_Dark_2_px</th>\n",
       "      <th>Nuclei-Membrane_Region_MitoTracker_Deep_Red_Haralick_Correlation_2_px</th>\n",
       "      <th>Nuclei-Membrane_Region_MitoTracker_Deep_Red_Haralick_Contrast_2_px</th>\n",
       "      <th>Nuclei-Membrane_Region_MitoTracker_Deep_Red_Haralick_Sum_Variance_2_px</th>\n",
       "      <th>Nuclei-Membrane_Region_MitoTracker_Deep_Red_Haralick_Homogeneity_2_px</th>\n",
       "      <th>Nuclei-Membrane_Region_MitoTracker_Deep_Red_Gabor_Min_2_px_w2</th>\n",
       "      <th>Nuclei-Membrane_Region_MitoTracker_Deep_Red_Gabor_Max_2_px_w2</th>\n",
       "      <th>Target</th>\n",
       "    </tr>\n",
       "  </thead>\n",
       "  <tbody>\n",
       "    <tr>\n",
       "      <th>A01._.TargetMol_01PMA_rep1</th>\n",
       "      <td>-0.003041</td>\n",
       "      <td>-0.011715</td>\n",
       "      <td>-0.010194</td>\n",
       "      <td>-0.013844</td>\n",
       "      <td>-0.009896</td>\n",
       "      <td>0.000971</td>\n",
       "      <td>-0.036730</td>\n",
       "      <td>-0.018943</td>\n",
       "      <td>-0.024087</td>\n",
       "      <td>0.030330</td>\n",
       "      <td>...</td>\n",
       "      <td>-0.330214</td>\n",
       "      <td>-0.027600</td>\n",
       "      <td>-0.271068</td>\n",
       "      <td>0.243881</td>\n",
       "      <td>-2.166542e-07</td>\n",
       "      <td>-0.000029</td>\n",
       "      <td>0.256609</td>\n",
       "      <td>-0.024182</td>\n",
       "      <td>-0.033303</td>\n",
       "      <td>DMSO</td>\n",
       "    </tr>\n",
       "    <tr>\n",
       "      <th>A01._.TargetMol_01PMA_rep2</th>\n",
       "      <td>-0.001183</td>\n",
       "      <td>0.000748</td>\n",
       "      <td>0.000127</td>\n",
       "      <td>0.000186</td>\n",
       "      <td>0.000354</td>\n",
       "      <td>0.006467</td>\n",
       "      <td>-0.005407</td>\n",
       "      <td>0.000099</td>\n",
       "      <td>-0.020500</td>\n",
       "      <td>0.008449</td>\n",
       "      <td>...</td>\n",
       "      <td>-0.283609</td>\n",
       "      <td>-0.055801</td>\n",
       "      <td>-0.245371</td>\n",
       "      <td>0.169670</td>\n",
       "      <td>-4.675196e-02</td>\n",
       "      <td>0.000353</td>\n",
       "      <td>0.235398</td>\n",
       "      <td>-0.060292</td>\n",
       "      <td>-0.088151</td>\n",
       "      <td>DMSO</td>\n",
       "    </tr>\n",
       "    <tr>\n",
       "      <th>A01._.TargetMol_01_rep1</th>\n",
       "      <td>0.000012</td>\n",
       "      <td>-0.000006</td>\n",
       "      <td>0.000012</td>\n",
       "      <td>-0.000006</td>\n",
       "      <td>0.000039</td>\n",
       "      <td>0.000000</td>\n",
       "      <td>0.021561</td>\n",
       "      <td>-0.000007</td>\n",
       "      <td>0.024419</td>\n",
       "      <td>-0.003240</td>\n",
       "      <td>...</td>\n",
       "      <td>-0.000087</td>\n",
       "      <td>-0.000972</td>\n",
       "      <td>0.000908</td>\n",
       "      <td>-0.000339</td>\n",
       "      <td>-1.428537e-06</td>\n",
       "      <td>-0.000004</td>\n",
       "      <td>-0.001515</td>\n",
       "      <td>0.000559</td>\n",
       "      <td>0.001682</td>\n",
       "      <td>DMSO</td>\n",
       "    </tr>\n",
       "    <tr>\n",
       "      <th>A01._.TargetMol_01_rep2</th>\n",
       "      <td>-0.000712</td>\n",
       "      <td>-0.000029</td>\n",
       "      <td>-0.002048</td>\n",
       "      <td>-0.000925</td>\n",
       "      <td>-0.000012</td>\n",
       "      <td>-0.003094</td>\n",
       "      <td>0.005183</td>\n",
       "      <td>-0.000371</td>\n",
       "      <td>-0.003746</td>\n",
       "      <td>-0.003083</td>\n",
       "      <td>...</td>\n",
       "      <td>0.000038</td>\n",
       "      <td>-0.008986</td>\n",
       "      <td>0.000691</td>\n",
       "      <td>-0.000316</td>\n",
       "      <td>-8.111013e-06</td>\n",
       "      <td>-0.000931</td>\n",
       "      <td>0.000627</td>\n",
       "      <td>-0.000351</td>\n",
       "      <td>0.000295</td>\n",
       "      <td>DMSO</td>\n",
       "    </tr>\n",
       "    <tr>\n",
       "      <th>A01._.TargetMol_02PMA_rep1</th>\n",
       "      <td>-0.001054</td>\n",
       "      <td>-0.012746</td>\n",
       "      <td>-0.002486</td>\n",
       "      <td>-0.006576</td>\n",
       "      <td>0.000193</td>\n",
       "      <td>0.000045</td>\n",
       "      <td>-0.014441</td>\n",
       "      <td>-0.007188</td>\n",
       "      <td>-0.017577</td>\n",
       "      <td>0.015990</td>\n",
       "      <td>...</td>\n",
       "      <td>-0.345183</td>\n",
       "      <td>-0.031406</td>\n",
       "      <td>-0.278377</td>\n",
       "      <td>0.208430</td>\n",
       "      <td>-4.699613e-05</td>\n",
       "      <td>0.000006</td>\n",
       "      <td>0.244385</td>\n",
       "      <td>-0.047646</td>\n",
       "      <td>-0.065632</td>\n",
       "      <td>DMSO</td>\n",
       "    </tr>\n",
       "    <tr>\n",
       "      <th>...</th>\n",
       "      <td>...</td>\n",
       "      <td>...</td>\n",
       "      <td>...</td>\n",
       "      <td>...</td>\n",
       "      <td>...</td>\n",
       "      <td>...</td>\n",
       "      <td>...</td>\n",
       "      <td>...</td>\n",
       "      <td>...</td>\n",
       "      <td>...</td>\n",
       "      <td>...</td>\n",
       "      <td>...</td>\n",
       "      <td>...</td>\n",
       "      <td>...</td>\n",
       "      <td>...</td>\n",
       "      <td>...</td>\n",
       "      <td>...</td>\n",
       "      <td>...</td>\n",
       "      <td>...</td>\n",
       "      <td>...</td>\n",
       "      <td>...</td>\n",
       "    </tr>\n",
       "    <tr>\n",
       "      <th>P24._.TargetMol_25_rep1</th>\n",
       "      <td>-0.019294</td>\n",
       "      <td>-0.008890</td>\n",
       "      <td>-0.014126</td>\n",
       "      <td>-0.023498</td>\n",
       "      <td>-0.025688</td>\n",
       "      <td>-0.026680</td>\n",
       "      <td>0.013603</td>\n",
       "      <td>-0.025579</td>\n",
       "      <td>-0.004610</td>\n",
       "      <td>-0.046275</td>\n",
       "      <td>...</td>\n",
       "      <td>0.349484</td>\n",
       "      <td>0.044780</td>\n",
       "      <td>0.252650</td>\n",
       "      <td>-0.203440</td>\n",
       "      <td>2.095852e-01</td>\n",
       "      <td>-0.003958</td>\n",
       "      <td>-0.238720</td>\n",
       "      <td>0.148360</td>\n",
       "      <td>0.117014</td>\n",
       "      <td>DMSO+PMA</td>\n",
       "    </tr>\n",
       "    <tr>\n",
       "      <th>P24._.TargetMol_26PMA_rep1</th>\n",
       "      <td>-0.061444</td>\n",
       "      <td>-0.050609</td>\n",
       "      <td>-0.073434</td>\n",
       "      <td>-0.082833</td>\n",
       "      <td>-0.021564</td>\n",
       "      <td>0.000000</td>\n",
       "      <td>-0.002310</td>\n",
       "      <td>-0.078518</td>\n",
       "      <td>-0.130805</td>\n",
       "      <td>-0.000025</td>\n",
       "      <td>...</td>\n",
       "      <td>-0.002380</td>\n",
       "      <td>-0.006040</td>\n",
       "      <td>0.002244</td>\n",
       "      <td>0.012779</td>\n",
       "      <td>-3.818594e-03</td>\n",
       "      <td>0.002365</td>\n",
       "      <td>0.003884</td>\n",
       "      <td>0.005184</td>\n",
       "      <td>0.003051</td>\n",
       "      <td>DMSO+PMA</td>\n",
       "    </tr>\n",
       "    <tr>\n",
       "      <th>P24._.TargetMol_26_rep1</th>\n",
       "      <td>-0.010205</td>\n",
       "      <td>-0.001320</td>\n",
       "      <td>-0.008952</td>\n",
       "      <td>-0.016760</td>\n",
       "      <td>-0.016715</td>\n",
       "      <td>-0.000367</td>\n",
       "      <td>0.013601</td>\n",
       "      <td>-0.012283</td>\n",
       "      <td>-0.002480</td>\n",
       "      <td>-0.040179</td>\n",
       "      <td>...</td>\n",
       "      <td>0.359281</td>\n",
       "      <td>0.039037</td>\n",
       "      <td>0.300077</td>\n",
       "      <td>-0.177276</td>\n",
       "      <td>1.946754e-01</td>\n",
       "      <td>0.009702</td>\n",
       "      <td>-0.260371</td>\n",
       "      <td>0.142457</td>\n",
       "      <td>0.167313</td>\n",
       "      <td>DMSO+PMA</td>\n",
       "    </tr>\n",
       "    <tr>\n",
       "      <th>P24._.TargetMol_27PMA_rep1</th>\n",
       "      <td>-0.042738</td>\n",
       "      <td>-0.011896</td>\n",
       "      <td>-0.025118</td>\n",
       "      <td>-0.049515</td>\n",
       "      <td>-0.060243</td>\n",
       "      <td>-0.058637</td>\n",
       "      <td>-0.000072</td>\n",
       "      <td>-0.017934</td>\n",
       "      <td>-0.075794</td>\n",
       "      <td>-0.002042</td>\n",
       "      <td>...</td>\n",
       "      <td>0.002507</td>\n",
       "      <td>-0.001783</td>\n",
       "      <td>0.003638</td>\n",
       "      <td>-0.001062</td>\n",
       "      <td>7.341728e-04</td>\n",
       "      <td>0.000772</td>\n",
       "      <td>-0.001091</td>\n",
       "      <td>0.007953</td>\n",
       "      <td>0.005194</td>\n",
       "      <td>DMSO+PMA</td>\n",
       "    </tr>\n",
       "    <tr>\n",
       "      <th>P24._.TargetMol_27_rep1</th>\n",
       "      <td>-0.003414</td>\n",
       "      <td>-0.001706</td>\n",
       "      <td>-0.009990</td>\n",
       "      <td>-0.009724</td>\n",
       "      <td>-0.006722</td>\n",
       "      <td>-0.090888</td>\n",
       "      <td>0.020013</td>\n",
       "      <td>-0.004796</td>\n",
       "      <td>-0.002045</td>\n",
       "      <td>-0.042698</td>\n",
       "      <td>...</td>\n",
       "      <td>0.400672</td>\n",
       "      <td>0.054336</td>\n",
       "      <td>0.271932</td>\n",
       "      <td>-0.217474</td>\n",
       "      <td>2.753381e-01</td>\n",
       "      <td>0.001831</td>\n",
       "      <td>-0.268888</td>\n",
       "      <td>0.112453</td>\n",
       "      <td>0.158824</td>\n",
       "      <td>DMSO+PMA</td>\n",
       "    </tr>\n",
       "  </tbody>\n",
       "</table>\n",
       "<p>23036 rows × 5881 columns</p>\n",
       "</div>"
      ],
      "text/plain": [
       "                            Nuclei-Intensity_Nucleus_Region_HOECHST_33342_expanded_Mean  \\\n",
       "A01._.TargetMol_01PMA_rep1                                          -0.003041             \n",
       "A01._.TargetMol_01PMA_rep2                                          -0.001183             \n",
       "A01._.TargetMol_01_rep1                                              0.000012             \n",
       "A01._.TargetMol_01_rep2                                             -0.000712             \n",
       "A01._.TargetMol_02PMA_rep1                                          -0.001054             \n",
       "...                                                                       ...             \n",
       "P24._.TargetMol_25_rep1                                             -0.019294             \n",
       "P24._.TargetMol_26PMA_rep1                                          -0.061444             \n",
       "P24._.TargetMol_26_rep1                                             -0.010205             \n",
       "P24._.TargetMol_27PMA_rep1                                          -0.042738             \n",
       "P24._.TargetMol_27_rep1                                             -0.003414             \n",
       "\n",
       "                            Nuclei-Intensity_Nucleus_Region_HOECHST_33342_expanded_StdDev  \\\n",
       "A01._.TargetMol_01PMA_rep1                                          -0.011715               \n",
       "A01._.TargetMol_01PMA_rep2                                           0.000748               \n",
       "A01._.TargetMol_01_rep1                                             -0.000006               \n",
       "A01._.TargetMol_01_rep2                                             -0.000029               \n",
       "A01._.TargetMol_02PMA_rep1                                          -0.012746               \n",
       "...                                                                       ...               \n",
       "P24._.TargetMol_25_rep1                                             -0.008890               \n",
       "P24._.TargetMol_26PMA_rep1                                          -0.050609               \n",
       "P24._.TargetMol_26_rep1                                             -0.001320               \n",
       "P24._.TargetMol_27PMA_rep1                                          -0.011896               \n",
       "P24._.TargetMol_27_rep1                                             -0.001706               \n",
       "\n",
       "                            Nuclei-Intensity_Nucleus_Region_HOECHST_33342_expanded_Median  \\\n",
       "A01._.TargetMol_01PMA_rep1                                          -0.010194               \n",
       "A01._.TargetMol_01PMA_rep2                                           0.000127               \n",
       "A01._.TargetMol_01_rep1                                              0.000012               \n",
       "A01._.TargetMol_01_rep2                                             -0.002048               \n",
       "A01._.TargetMol_02PMA_rep1                                          -0.002486               \n",
       "...                                                                       ...               \n",
       "P24._.TargetMol_25_rep1                                             -0.014126               \n",
       "P24._.TargetMol_26PMA_rep1                                          -0.073434               \n",
       "P24._.TargetMol_26_rep1                                             -0.008952               \n",
       "P24._.TargetMol_27PMA_rep1                                          -0.025118               \n",
       "P24._.TargetMol_27_rep1                                             -0.009990               \n",
       "\n",
       "                            Nuclei-Intensity_Nucleus_Region_HOECHST_33342_expanded_Maximum  \\\n",
       "A01._.TargetMol_01PMA_rep1                                          -0.013844                \n",
       "A01._.TargetMol_01PMA_rep2                                           0.000186                \n",
       "A01._.TargetMol_01_rep1                                             -0.000006                \n",
       "A01._.TargetMol_01_rep2                                             -0.000925                \n",
       "A01._.TargetMol_02PMA_rep1                                          -0.006576                \n",
       "...                                                                       ...                \n",
       "P24._.TargetMol_25_rep1                                             -0.023498                \n",
       "P24._.TargetMol_26PMA_rep1                                          -0.082833                \n",
       "P24._.TargetMol_26_rep1                                             -0.016760                \n",
       "P24._.TargetMol_27PMA_rep1                                          -0.049515                \n",
       "P24._.TargetMol_27_rep1                                             -0.009724                \n",
       "\n",
       "                            Nuclei-Intensity_Nucleus_Region_HOECHST_33342_expanded_Minimum  \\\n",
       "A01._.TargetMol_01PMA_rep1                                          -0.009896                \n",
       "A01._.TargetMol_01PMA_rep2                                           0.000354                \n",
       "A01._.TargetMol_01_rep1                                              0.000039                \n",
       "A01._.TargetMol_01_rep2                                             -0.000012                \n",
       "A01._.TargetMol_02PMA_rep1                                           0.000193                \n",
       "...                                                                       ...                \n",
       "P24._.TargetMol_25_rep1                                             -0.025688                \n",
       "P24._.TargetMol_26PMA_rep1                                          -0.021564                \n",
       "P24._.TargetMol_26_rep1                                             -0.016715                \n",
       "P24._.TargetMol_27PMA_rep1                                          -0.060243                \n",
       "P24._.TargetMol_27_rep1                                             -0.006722                \n",
       "\n",
       "                            Nuclei-Intensity_Nucleus_Region_HOECHST_33342_expanded_Sum  \\\n",
       "A01._.TargetMol_01PMA_rep1                                           0.000971            \n",
       "A01._.TargetMol_01PMA_rep2                                           0.006467            \n",
       "A01._.TargetMol_01_rep1                                              0.000000            \n",
       "A01._.TargetMol_01_rep2                                             -0.003094            \n",
       "A01._.TargetMol_02PMA_rep1                                           0.000045            \n",
       "...                                                                       ...            \n",
       "P24._.TargetMol_25_rep1                                             -0.026680            \n",
       "P24._.TargetMol_26PMA_rep1                                           0.000000            \n",
       "P24._.TargetMol_26_rep1                                             -0.000367            \n",
       "P24._.TargetMol_27PMA_rep1                                          -0.058637            \n",
       "P24._.TargetMol_27_rep1                                             -0.090888            \n",
       "\n",
       "                            Nuclei-Intensity_Nucleus_Region_HOECHST_33342_expanded_CV_[Pct]  \\\n",
       "A01._.TargetMol_01PMA_rep1                                          -0.036730                 \n",
       "A01._.TargetMol_01PMA_rep2                                          -0.005407                 \n",
       "A01._.TargetMol_01_rep1                                              0.021561                 \n",
       "A01._.TargetMol_01_rep2                                              0.005183                 \n",
       "A01._.TargetMol_02PMA_rep1                                          -0.014441                 \n",
       "...                                                                       ...                 \n",
       "P24._.TargetMol_25_rep1                                              0.013603                 \n",
       "P24._.TargetMol_26PMA_rep1                                          -0.002310                 \n",
       "P24._.TargetMol_26_rep1                                              0.013601                 \n",
       "P24._.TargetMol_27PMA_rep1                                          -0.000072                 \n",
       "P24._.TargetMol_27_rep1                                              0.020013                 \n",
       "\n",
       "                            Nuclei-Intensity_Nucleus_Region_HOECHST_33342_expanded_Quantile_90Pct  \\\n",
       "A01._.TargetMol_01PMA_rep1                                          -0.018943                       \n",
       "A01._.TargetMol_01PMA_rep2                                           0.000099                       \n",
       "A01._.TargetMol_01_rep1                                             -0.000007                       \n",
       "A01._.TargetMol_01_rep2                                             -0.000371                       \n",
       "A01._.TargetMol_02PMA_rep1                                          -0.007188                       \n",
       "...                                                                       ...                       \n",
       "P24._.TargetMol_25_rep1                                             -0.025579                       \n",
       "P24._.TargetMol_26PMA_rep1                                          -0.078518                       \n",
       "P24._.TargetMol_26_rep1                                             -0.012283                       \n",
       "P24._.TargetMol_27PMA_rep1                                          -0.017934                       \n",
       "P24._.TargetMol_27_rep1                                             -0.004796                       \n",
       "\n",
       "                            Nuclei-Intensity_Nucleus_Region_HOECHST_33342_expanded_Contrast  \\\n",
       "A01._.TargetMol_01PMA_rep1                                          -0.024087                 \n",
       "A01._.TargetMol_01PMA_rep2                                          -0.020500                 \n",
       "A01._.TargetMol_01_rep1                                              0.024419                 \n",
       "A01._.TargetMol_01_rep2                                             -0.003746                 \n",
       "A01._.TargetMol_02PMA_rep1                                          -0.017577                 \n",
       "...                                                                       ...                 \n",
       "P24._.TargetMol_25_rep1                                             -0.004610                 \n",
       "P24._.TargetMol_26PMA_rep1                                          -0.130805                 \n",
       "P24._.TargetMol_26_rep1                                             -0.002480                 \n",
       "P24._.TargetMol_27PMA_rep1                                          -0.075794                 \n",
       "P24._.TargetMol_27_rep1                                             -0.002045                 \n",
       "\n",
       "                            Nuclei-Nucleus_Region_Area_[um^2]  ...  \\\n",
       "A01._.TargetMol_01PMA_rep1                           0.030330  ...   \n",
       "A01._.TargetMol_01PMA_rep2                           0.008449  ...   \n",
       "A01._.TargetMol_01_rep1                             -0.003240  ...   \n",
       "A01._.TargetMol_01_rep2                             -0.003083  ...   \n",
       "A01._.TargetMol_02PMA_rep1                           0.015990  ...   \n",
       "...                                                       ...  ...   \n",
       "P24._.TargetMol_25_rep1                             -0.046275  ...   \n",
       "P24._.TargetMol_26PMA_rep1                          -0.000025  ...   \n",
       "P24._.TargetMol_26_rep1                             -0.040179  ...   \n",
       "P24._.TargetMol_27PMA_rep1                          -0.002042  ...   \n",
       "P24._.TargetMol_27_rep1                             -0.042698  ...   \n",
       "\n",
       "                            Nuclei-Membrane_Region_MitoTracker_Deep_Red_SER_Saddle_2_px  \\\n",
       "A01._.TargetMol_01PMA_rep1                                          -0.330214             \n",
       "A01._.TargetMol_01PMA_rep2                                          -0.283609             \n",
       "A01._.TargetMol_01_rep1                                             -0.000087             \n",
       "A01._.TargetMol_01_rep2                                              0.000038             \n",
       "A01._.TargetMol_02PMA_rep1                                          -0.345183             \n",
       "...                                                                       ...             \n",
       "P24._.TargetMol_25_rep1                                              0.349484             \n",
       "P24._.TargetMol_26PMA_rep1                                          -0.002380             \n",
       "P24._.TargetMol_26_rep1                                              0.359281             \n",
       "P24._.TargetMol_27PMA_rep1                                           0.002507             \n",
       "P24._.TargetMol_27_rep1                                              0.400672             \n",
       "\n",
       "                            Nuclei-Membrane_Region_MitoTracker_Deep_Red_SER_Bright_2_px  \\\n",
       "A01._.TargetMol_01PMA_rep1                                          -0.027600             \n",
       "A01._.TargetMol_01PMA_rep2                                          -0.055801             \n",
       "A01._.TargetMol_01_rep1                                             -0.000972             \n",
       "A01._.TargetMol_01_rep2                                             -0.008986             \n",
       "A01._.TargetMol_02PMA_rep1                                          -0.031406             \n",
       "...                                                                       ...             \n",
       "P24._.TargetMol_25_rep1                                              0.044780             \n",
       "P24._.TargetMol_26PMA_rep1                                          -0.006040             \n",
       "P24._.TargetMol_26_rep1                                              0.039037             \n",
       "P24._.TargetMol_27PMA_rep1                                          -0.001783             \n",
       "P24._.TargetMol_27_rep1                                              0.054336             \n",
       "\n",
       "                            Nuclei-Membrane_Region_MitoTracker_Deep_Red_SER_Dark_2_px  \\\n",
       "A01._.TargetMol_01PMA_rep1                                          -0.271068           \n",
       "A01._.TargetMol_01PMA_rep2                                          -0.245371           \n",
       "A01._.TargetMol_01_rep1                                              0.000908           \n",
       "A01._.TargetMol_01_rep2                                              0.000691           \n",
       "A01._.TargetMol_02PMA_rep1                                          -0.278377           \n",
       "...                                                                       ...           \n",
       "P24._.TargetMol_25_rep1                                              0.252650           \n",
       "P24._.TargetMol_26PMA_rep1                                           0.002244           \n",
       "P24._.TargetMol_26_rep1                                              0.300077           \n",
       "P24._.TargetMol_27PMA_rep1                                           0.003638           \n",
       "P24._.TargetMol_27_rep1                                              0.271932           \n",
       "\n",
       "                            Nuclei-Membrane_Region_MitoTracker_Deep_Red_Haralick_Correlation_2_px  \\\n",
       "A01._.TargetMol_01PMA_rep1                                           0.243881                       \n",
       "A01._.TargetMol_01PMA_rep2                                           0.169670                       \n",
       "A01._.TargetMol_01_rep1                                             -0.000339                       \n",
       "A01._.TargetMol_01_rep2                                             -0.000316                       \n",
       "A01._.TargetMol_02PMA_rep1                                           0.208430                       \n",
       "...                                                                       ...                       \n",
       "P24._.TargetMol_25_rep1                                             -0.203440                       \n",
       "P24._.TargetMol_26PMA_rep1                                           0.012779                       \n",
       "P24._.TargetMol_26_rep1                                             -0.177276                       \n",
       "P24._.TargetMol_27PMA_rep1                                          -0.001062                       \n",
       "P24._.TargetMol_27_rep1                                             -0.217474                       \n",
       "\n",
       "                            Nuclei-Membrane_Region_MitoTracker_Deep_Red_Haralick_Contrast_2_px  \\\n",
       "A01._.TargetMol_01PMA_rep1                                      -2.166542e-07                    \n",
       "A01._.TargetMol_01PMA_rep2                                      -4.675196e-02                    \n",
       "A01._.TargetMol_01_rep1                                         -1.428537e-06                    \n",
       "A01._.TargetMol_01_rep2                                         -8.111013e-06                    \n",
       "A01._.TargetMol_02PMA_rep1                                      -4.699613e-05                    \n",
       "...                                                                       ...                    \n",
       "P24._.TargetMol_25_rep1                                          2.095852e-01                    \n",
       "P24._.TargetMol_26PMA_rep1                                      -3.818594e-03                    \n",
       "P24._.TargetMol_26_rep1                                          1.946754e-01                    \n",
       "P24._.TargetMol_27PMA_rep1                                       7.341728e-04                    \n",
       "P24._.TargetMol_27_rep1                                          2.753381e-01                    \n",
       "\n",
       "                            Nuclei-Membrane_Region_MitoTracker_Deep_Red_Haralick_Sum_Variance_2_px  \\\n",
       "A01._.TargetMol_01PMA_rep1                                          -0.000029                        \n",
       "A01._.TargetMol_01PMA_rep2                                           0.000353                        \n",
       "A01._.TargetMol_01_rep1                                             -0.000004                        \n",
       "A01._.TargetMol_01_rep2                                             -0.000931                        \n",
       "A01._.TargetMol_02PMA_rep1                                           0.000006                        \n",
       "...                                                                       ...                        \n",
       "P24._.TargetMol_25_rep1                                             -0.003958                        \n",
       "P24._.TargetMol_26PMA_rep1                                           0.002365                        \n",
       "P24._.TargetMol_26_rep1                                              0.009702                        \n",
       "P24._.TargetMol_27PMA_rep1                                           0.000772                        \n",
       "P24._.TargetMol_27_rep1                                              0.001831                        \n",
       "\n",
       "                            Nuclei-Membrane_Region_MitoTracker_Deep_Red_Haralick_Homogeneity_2_px  \\\n",
       "A01._.TargetMol_01PMA_rep1                                           0.256609                       \n",
       "A01._.TargetMol_01PMA_rep2                                           0.235398                       \n",
       "A01._.TargetMol_01_rep1                                             -0.001515                       \n",
       "A01._.TargetMol_01_rep2                                              0.000627                       \n",
       "A01._.TargetMol_02PMA_rep1                                           0.244385                       \n",
       "...                                                                       ...                       \n",
       "P24._.TargetMol_25_rep1                                             -0.238720                       \n",
       "P24._.TargetMol_26PMA_rep1                                           0.003884                       \n",
       "P24._.TargetMol_26_rep1                                             -0.260371                       \n",
       "P24._.TargetMol_27PMA_rep1                                          -0.001091                       \n",
       "P24._.TargetMol_27_rep1                                             -0.268888                       \n",
       "\n",
       "                            Nuclei-Membrane_Region_MitoTracker_Deep_Red_Gabor_Min_2_px_w2  \\\n",
       "A01._.TargetMol_01PMA_rep1                                          -0.024182               \n",
       "A01._.TargetMol_01PMA_rep2                                          -0.060292               \n",
       "A01._.TargetMol_01_rep1                                              0.000559               \n",
       "A01._.TargetMol_01_rep2                                             -0.000351               \n",
       "A01._.TargetMol_02PMA_rep1                                          -0.047646               \n",
       "...                                                                       ...               \n",
       "P24._.TargetMol_25_rep1                                              0.148360               \n",
       "P24._.TargetMol_26PMA_rep1                                           0.005184               \n",
       "P24._.TargetMol_26_rep1                                              0.142457               \n",
       "P24._.TargetMol_27PMA_rep1                                           0.007953               \n",
       "P24._.TargetMol_27_rep1                                              0.112453               \n",
       "\n",
       "                            Nuclei-Membrane_Region_MitoTracker_Deep_Red_Gabor_Max_2_px_w2  \\\n",
       "A01._.TargetMol_01PMA_rep1                                          -0.033303               \n",
       "A01._.TargetMol_01PMA_rep2                                          -0.088151               \n",
       "A01._.TargetMol_01_rep1                                              0.001682               \n",
       "A01._.TargetMol_01_rep2                                              0.000295               \n",
       "A01._.TargetMol_02PMA_rep1                                          -0.065632               \n",
       "...                                                                       ...               \n",
       "P24._.TargetMol_25_rep1                                              0.117014               \n",
       "P24._.TargetMol_26PMA_rep1                                           0.003051               \n",
       "P24._.TargetMol_26_rep1                                              0.167313               \n",
       "P24._.TargetMol_27PMA_rep1                                           0.005194               \n",
       "P24._.TargetMol_27_rep1                                              0.158824               \n",
       "\n",
       "                              Target  \n",
       "A01._.TargetMol_01PMA_rep1      DMSO  \n",
       "A01._.TargetMol_01PMA_rep2      DMSO  \n",
       "A01._.TargetMol_01_rep1         DMSO  \n",
       "A01._.TargetMol_01_rep2         DMSO  \n",
       "A01._.TargetMol_02PMA_rep1      DMSO  \n",
       "...                              ...  \n",
       "P24._.TargetMol_25_rep1     DMSO+PMA  \n",
       "P24._.TargetMol_26PMA_rep1  DMSO+PMA  \n",
       "P24._.TargetMol_26_rep1     DMSO+PMA  \n",
       "P24._.TargetMol_27PMA_rep1  DMSO+PMA  \n",
       "P24._.TargetMol_27_rep1     DMSO+PMA  \n",
       "\n",
       "[23036 rows x 5881 columns]"
      ]
     },
     "execution_count": 20,
     "metadata": {},
     "output_type": "execute_result"
    }
   ],
   "source": [
    "combined"
   ]
  },
  {
   "cell_type": "code",
   "execution_count": 22,
   "id": "3bbc9667",
   "metadata": {},
   "outputs": [],
   "source": [
    "X = combined.iloc[:, :-1].values\n",
    "y = combined['Target'].values.reshape(-1,1)\n",
    "ohe = OneHotEncoder(sparse=False).fit(y)\n",
    "y = ohe.transform(y)"
   ]
  },
  {
   "cell_type": "code",
   "execution_count": 28,
   "id": "d097b648",
   "metadata": {},
   "outputs": [
    {
     "data": {
      "text/plain": [
       "366"
      ]
     },
     "execution_count": 28,
     "metadata": {},
     "output_type": "execute_result"
    }
   ],
   "source": [
    "len(combined['Target'].unique())"
   ]
  },
  {
   "cell_type": "code",
   "execution_count": 24,
   "id": "2336570c",
   "metadata": {},
   "outputs": [],
   "source": [
    "# convert pandas DataFrame (X) and numpy array (y) into PyTorch tensors\n",
    "X = torch.tensor(X, dtype=torch.float32)\n",
    "y = torch.tensor(y, dtype=torch.float32)"
   ]
  },
  {
   "cell_type": "code",
   "execution_count": 25,
   "id": "c8f52f5d",
   "metadata": {},
   "outputs": [],
   "source": [
    "# split\n",
    "X_train, X_test, y_train, y_test = train_test_split(X, y, train_size=0.7, shuffle=True)\n"
   ]
  },
  {
   "cell_type": "code",
   "execution_count": 41,
   "id": "a8c56606",
   "metadata": {},
   "outputs": [],
   "source": [
    "class Multiclass(nn.Module):\n",
    "    def __init__(self):\n",
    "        super().__init__()\n",
    "#         self.hidden = nn.Linear(4, 8)\n",
    "        self.hidden = nn.Linear(5880, 5000)\n",
    "        self.act = nn.ReLU()\n",
    "#         self.hidden2 = nn.Conv1d(5000,2000,kernel_size=2) #\n",
    "        self.hidden2 = nn.Linear(5000,2000)\n",
    "        self.act2 = nn.ReLU() #\n",
    "        self.hidden3 = nn.Linear(2000,1000) #\n",
    "        self.act3 = nn.ReLU() #\n",
    "#         self.hidden4 = nn.Conv1d(1000,500,kernel_size=2) #\n",
    "        self.hidden4 = nn.Linear(1000,500)\n",
    "        self.act4 = nn.ReLU() #\n",
    "#         self.hidden5 = nn.Conv1d(500,366,kernel_size=2) #\n",
    "        self.hidden5 = nn.Linear(500,366)\n",
    "        self.act5 = nn.ReLU() #\n",
    "        self.soft_max = nn.Softmax() #\n",
    "        self.output = nn.Linear(366, 366) #8,3\n",
    "\n",
    "    def forward(self, x):\n",
    "        x = self.act(self.hidden(x))\n",
    "        x = self.act2(self.hidden2(x)) #\n",
    "        x = self.act3(self.hidden3(x)) #\n",
    "        x = self.act4(self.hidden4(x)) #\n",
    "        x = self.act5(self.hidden5(x)) #\n",
    "#         x = self.act2(self.hidden2(x)) #\n",
    "        x = self.output(x)\n",
    "        x = self.soft_max(x) #\n",
    "        return x"
   ]
  },
  {
   "cell_type": "code",
   "execution_count": 44,
   "id": "13c6264c",
   "metadata": {},
   "outputs": [],
   "source": [
    "# loss metric and optimizer\n",
    "model = Multiclass()\n",
    "loss_fn = nn.CrossEntropyLoss()\n",
    "optimizer = optim.Adam(model.parameters(), lr=0.001)\n",
    "\n",
    "# prepare model and training parameters\n",
    "n_epochs = 200\n",
    "batch_size = 50\n",
    "batches_per_epoch = len(X_train) // batch_size\n",
    "\n",
    "best_acc = - np.inf   # init to negative infinity\n",
    "best_weights = None\n",
    "train_loss_hist = []\n",
    "train_acc_hist = []\n",
    "test_loss_hist = []\n",
    "test_acc_hist = []"
   ]
  },
  {
   "cell_type": "code",
   "execution_count": 45,
   "id": "34d4dd75",
   "metadata": {
    "scrolled": true
   },
   "outputs": [
    {
     "name": "stderr",
     "output_type": "stream",
     "text": [
      "Epoch 0:   0%|                                                                              | 0/322 [00:00<?, ?batch/s]C:\\ProgramData\\Miniconda3\\lib\\site-packages\\ipykernel_launcher.py:29: UserWarning: Implicit dimension choice for softmax has been deprecated. Change the call to include dim=X as an argument.\n",
      "Epoch 0: 100%|███████████████████████████████████████████████| 322/322 [01:36<00:00,  3.33batch/s, acc=0.08, loss=5.83]\n"
     ]
    },
    {
     "name": "stdout",
     "output_type": "stream",
     "text": [
      "Epoch 0 validation: Cross-entropy=5.82, Accuracy=8.4%\n"
     ]
    },
    {
     "name": "stderr",
     "output_type": "stream",
     "text": [
      "Epoch 1: 100%|███████████████████████████████████████████████| 322/322 [01:38<00:00,  3.25batch/s, acc=0.08, loss=5.83]\n"
     ]
    },
    {
     "name": "stdout",
     "output_type": "stream",
     "text": [
      "Epoch 1 validation: Cross-entropy=5.82, Accuracy=8.4%\n"
     ]
    },
    {
     "name": "stderr",
     "output_type": "stream",
     "text": [
      "Epoch 2: 100%|███████████████████████████████████████████████| 322/322 [01:38<00:00,  3.28batch/s, acc=0.08, loss=5.83]\n"
     ]
    },
    {
     "name": "stdout",
     "output_type": "stream",
     "text": [
      "Epoch 2 validation: Cross-entropy=5.82, Accuracy=8.4%\n"
     ]
    },
    {
     "name": "stderr",
     "output_type": "stream",
     "text": [
      "Epoch 3: 100%|███████████████████████████████████████████████| 322/322 [01:36<00:00,  3.33batch/s, acc=0.08, loss=5.83]\n"
     ]
    },
    {
     "name": "stdout",
     "output_type": "stream",
     "text": [
      "Epoch 3 validation: Cross-entropy=5.82, Accuracy=8.4%\n"
     ]
    },
    {
     "name": "stderr",
     "output_type": "stream",
     "text": [
      "Epoch 4: 100%|███████████████████████████████████████████████| 322/322 [01:37<00:00,  3.31batch/s, acc=0.08, loss=5.83]\n"
     ]
    },
    {
     "name": "stdout",
     "output_type": "stream",
     "text": [
      "Epoch 4 validation: Cross-entropy=5.82, Accuracy=8.4%\n"
     ]
    },
    {
     "name": "stderr",
     "output_type": "stream",
     "text": [
      "Epoch 5: 100%|███████████████████████████████████████████████| 322/322 [01:36<00:00,  3.34batch/s, acc=0.08, loss=5.83]\n"
     ]
    },
    {
     "name": "stdout",
     "output_type": "stream",
     "text": [
      "Epoch 5 validation: Cross-entropy=5.82, Accuracy=8.4%\n"
     ]
    },
    {
     "name": "stderr",
     "output_type": "stream",
     "text": [
      "Epoch 6: 100%|███████████████████████████████████████████████| 322/322 [01:36<00:00,  3.34batch/s, acc=0.08, loss=5.83]\n"
     ]
    },
    {
     "name": "stdout",
     "output_type": "stream",
     "text": [
      "Epoch 6 validation: Cross-entropy=5.82, Accuracy=8.4%\n"
     ]
    },
    {
     "name": "stderr",
     "output_type": "stream",
     "text": [
      "Epoch 7: 100%|███████████████████████████████████████████████| 322/322 [01:35<00:00,  3.38batch/s, acc=0.08, loss=5.83]\n"
     ]
    },
    {
     "name": "stdout",
     "output_type": "stream",
     "text": [
      "Epoch 7 validation: Cross-entropy=5.82, Accuracy=8.4%\n"
     ]
    },
    {
     "name": "stderr",
     "output_type": "stream",
     "text": [
      "Epoch 8: 100%|███████████████████████████████████████████████| 322/322 [01:35<00:00,  3.38batch/s, acc=0.08, loss=5.83]\n"
     ]
    },
    {
     "name": "stdout",
     "output_type": "stream",
     "text": [
      "Epoch 8 validation: Cross-entropy=5.82, Accuracy=8.4%\n"
     ]
    },
    {
     "name": "stderr",
     "output_type": "stream",
     "text": [
      "Epoch 9: 100%|███████████████████████████████████████████████| 322/322 [01:35<00:00,  3.37batch/s, acc=0.08, loss=5.83]\n"
     ]
    },
    {
     "name": "stdout",
     "output_type": "stream",
     "text": [
      "Epoch 9 validation: Cross-entropy=5.82, Accuracy=8.4%\n"
     ]
    },
    {
     "name": "stderr",
     "output_type": "stream",
     "text": [
      "Epoch 10: 100%|██████████████████████████████████████████████| 322/322 [01:35<00:00,  3.37batch/s, acc=0.08, loss=5.83]\n"
     ]
    },
    {
     "name": "stdout",
     "output_type": "stream",
     "text": [
      "Epoch 10 validation: Cross-entropy=5.82, Accuracy=8.4%\n"
     ]
    },
    {
     "name": "stderr",
     "output_type": "stream",
     "text": [
      "Epoch 11: 100%|██████████████████████████████████████████████| 322/322 [01:35<00:00,  3.38batch/s, acc=0.08, loss=5.83]\n"
     ]
    },
    {
     "name": "stdout",
     "output_type": "stream",
     "text": [
      "Epoch 11 validation: Cross-entropy=5.82, Accuracy=8.4%\n"
     ]
    },
    {
     "name": "stderr",
     "output_type": "stream",
     "text": [
      "Epoch 12: 100%|██████████████████████████████████████████████| 322/322 [01:35<00:00,  3.37batch/s, acc=0.08, loss=5.83]\n"
     ]
    },
    {
     "name": "stdout",
     "output_type": "stream",
     "text": [
      "Epoch 12 validation: Cross-entropy=5.82, Accuracy=8.4%\n"
     ]
    },
    {
     "name": "stderr",
     "output_type": "stream",
     "text": [
      "Epoch 13: 100%|██████████████████████████████████████████████| 322/322 [01:35<00:00,  3.38batch/s, acc=0.08, loss=5.83]\n"
     ]
    },
    {
     "name": "stdout",
     "output_type": "stream",
     "text": [
      "Epoch 13 validation: Cross-entropy=5.82, Accuracy=8.4%\n"
     ]
    },
    {
     "name": "stderr",
     "output_type": "stream",
     "text": [
      "Epoch 14: 100%|██████████████████████████████████████████████| 322/322 [01:35<00:00,  3.37batch/s, acc=0.08, loss=5.83]\n"
     ]
    },
    {
     "name": "stdout",
     "output_type": "stream",
     "text": [
      "Epoch 14 validation: Cross-entropy=5.82, Accuracy=8.4%\n"
     ]
    },
    {
     "name": "stderr",
     "output_type": "stream",
     "text": [
      "Epoch 15: 100%|██████████████████████████████████████████████| 322/322 [01:35<00:00,  3.39batch/s, acc=0.08, loss=5.83]\n"
     ]
    },
    {
     "name": "stdout",
     "output_type": "stream",
     "text": [
      "Epoch 15 validation: Cross-entropy=5.82, Accuracy=8.4%\n"
     ]
    },
    {
     "name": "stderr",
     "output_type": "stream",
     "text": [
      "Epoch 16: 100%|██████████████████████████████████████████████| 322/322 [01:35<00:00,  3.37batch/s, acc=0.08, loss=5.83]\n"
     ]
    },
    {
     "name": "stdout",
     "output_type": "stream",
     "text": [
      "Epoch 16 validation: Cross-entropy=5.82, Accuracy=8.4%\n"
     ]
    },
    {
     "name": "stderr",
     "output_type": "stream",
     "text": [
      "Epoch 17: 100%|██████████████████████████████████████████████| 322/322 [01:35<00:00,  3.38batch/s, acc=0.08, loss=5.83]\n"
     ]
    },
    {
     "name": "stdout",
     "output_type": "stream",
     "text": [
      "Epoch 17 validation: Cross-entropy=5.82, Accuracy=8.4%\n"
     ]
    },
    {
     "name": "stderr",
     "output_type": "stream",
     "text": [
      "Epoch 18: 100%|██████████████████████████████████████████████| 322/322 [01:35<00:00,  3.37batch/s, acc=0.08, loss=5.83]\n"
     ]
    },
    {
     "name": "stdout",
     "output_type": "stream",
     "text": [
      "Epoch 18 validation: Cross-entropy=5.82, Accuracy=8.4%\n"
     ]
    },
    {
     "name": "stderr",
     "output_type": "stream",
     "text": [
      "Epoch 19: 100%|██████████████████████████████████████████████| 322/322 [01:35<00:00,  3.37batch/s, acc=0.08, loss=5.83]\n"
     ]
    },
    {
     "name": "stdout",
     "output_type": "stream",
     "text": [
      "Epoch 19 validation: Cross-entropy=5.82, Accuracy=8.4%\n"
     ]
    },
    {
     "name": "stderr",
     "output_type": "stream",
     "text": [
      "Epoch 20: 100%|██████████████████████████████████████████████| 322/322 [01:35<00:00,  3.37batch/s, acc=0.08, loss=5.83]\n"
     ]
    },
    {
     "name": "stdout",
     "output_type": "stream",
     "text": [
      "Epoch 20 validation: Cross-entropy=5.82, Accuracy=8.4%\n"
     ]
    },
    {
     "name": "stderr",
     "output_type": "stream",
     "text": [
      "Epoch 21: 100%|██████████████████████████████████████████████| 322/322 [01:35<00:00,  3.38batch/s, acc=0.08, loss=5.83]\n"
     ]
    },
    {
     "name": "stdout",
     "output_type": "stream",
     "text": [
      "Epoch 21 validation: Cross-entropy=5.82, Accuracy=8.4%\n"
     ]
    },
    {
     "name": "stderr",
     "output_type": "stream",
     "text": [
      "Epoch 22: 100%|██████████████████████████████████████████████| 322/322 [01:35<00:00,  3.37batch/s, acc=0.08, loss=5.83]\n"
     ]
    },
    {
     "name": "stdout",
     "output_type": "stream",
     "text": [
      "Epoch 22 validation: Cross-entropy=5.82, Accuracy=8.4%\n"
     ]
    },
    {
     "name": "stderr",
     "output_type": "stream",
     "text": [
      "Epoch 23: 100%|██████████████████████████████████████████████| 322/322 [01:35<00:00,  3.38batch/s, acc=0.08, loss=5.83]\n"
     ]
    },
    {
     "name": "stdout",
     "output_type": "stream",
     "text": [
      "Epoch 23 validation: Cross-entropy=5.82, Accuracy=8.4%\n"
     ]
    },
    {
     "name": "stderr",
     "output_type": "stream",
     "text": [
      "Epoch 24: 100%|██████████████████████████████████████████████| 322/322 [01:35<00:00,  3.35batch/s, acc=0.08, loss=5.83]\n"
     ]
    },
    {
     "name": "stdout",
     "output_type": "stream",
     "text": [
      "Epoch 24 validation: Cross-entropy=5.82, Accuracy=8.4%\n"
     ]
    },
    {
     "name": "stderr",
     "output_type": "stream",
     "text": [
      "Epoch 25: 100%|██████████████████████████████████████████████| 322/322 [01:41<00:00,  3.18batch/s, acc=0.08, loss=5.83]\n"
     ]
    },
    {
     "name": "stdout",
     "output_type": "stream",
     "text": [
      "Epoch 25 validation: Cross-entropy=5.82, Accuracy=8.4%\n"
     ]
    },
    {
     "name": "stderr",
     "output_type": "stream",
     "text": [
      "Epoch 26: 100%|██████████████████████████████████████████████| 322/322 [01:37<00:00,  3.29batch/s, acc=0.08, loss=5.83]\n"
     ]
    },
    {
     "name": "stdout",
     "output_type": "stream",
     "text": [
      "Epoch 26 validation: Cross-entropy=5.82, Accuracy=8.4%\n"
     ]
    },
    {
     "name": "stderr",
     "output_type": "stream",
     "text": [
      "Epoch 27: 100%|██████████████████████████████████████████████| 322/322 [01:38<00:00,  3.25batch/s, acc=0.08, loss=5.83]\n"
     ]
    },
    {
     "name": "stdout",
     "output_type": "stream",
     "text": [
      "Epoch 27 validation: Cross-entropy=5.82, Accuracy=8.4%\n"
     ]
    },
    {
     "name": "stderr",
     "output_type": "stream",
     "text": [
      "Epoch 28: 100%|██████████████████████████████████████████████| 322/322 [01:38<00:00,  3.26batch/s, acc=0.08, loss=5.83]\n"
     ]
    },
    {
     "name": "stdout",
     "output_type": "stream",
     "text": [
      "Epoch 28 validation: Cross-entropy=5.82, Accuracy=8.4%\n"
     ]
    },
    {
     "name": "stderr",
     "output_type": "stream",
     "text": [
      "Epoch 29: 100%|██████████████████████████████████████████████| 322/322 [01:39<00:00,  3.25batch/s, acc=0.08, loss=5.83]\n"
     ]
    },
    {
     "name": "stdout",
     "output_type": "stream",
     "text": [
      "Epoch 29 validation: Cross-entropy=5.82, Accuracy=8.4%\n"
     ]
    },
    {
     "name": "stderr",
     "output_type": "stream",
     "text": [
      "Epoch 30: 100%|██████████████████████████████████████████████| 322/322 [01:39<00:00,  3.24batch/s, acc=0.08, loss=5.83]\n"
     ]
    },
    {
     "name": "stdout",
     "output_type": "stream",
     "text": [
      "Epoch 30 validation: Cross-entropy=5.82, Accuracy=8.4%\n"
     ]
    },
    {
     "name": "stderr",
     "output_type": "stream",
     "text": [
      "Epoch 31: 100%|██████████████████████████████████████████████| 322/322 [01:38<00:00,  3.26batch/s, acc=0.08, loss=5.83]\n"
     ]
    },
    {
     "name": "stdout",
     "output_type": "stream",
     "text": [
      "Epoch 31 validation: Cross-entropy=5.82, Accuracy=8.4%\n"
     ]
    },
    {
     "name": "stderr",
     "output_type": "stream",
     "text": [
      "Epoch 32: 100%|██████████████████████████████████████████████| 322/322 [01:38<00:00,  3.26batch/s, acc=0.08, loss=5.83]\n"
     ]
    },
    {
     "name": "stdout",
     "output_type": "stream",
     "text": [
      "Epoch 32 validation: Cross-entropy=5.82, Accuracy=8.4%\n"
     ]
    },
    {
     "name": "stderr",
     "output_type": "stream",
     "text": [
      "Epoch 33: 100%|██████████████████████████████████████████████| 322/322 [01:38<00:00,  3.27batch/s, acc=0.08, loss=5.83]\n"
     ]
    },
    {
     "name": "stdout",
     "output_type": "stream",
     "text": [
      "Epoch 33 validation: Cross-entropy=5.82, Accuracy=8.4%\n"
     ]
    },
    {
     "name": "stderr",
     "output_type": "stream",
     "text": [
      "Epoch 34: 100%|██████████████████████████████████████████████| 322/322 [01:40<00:00,  3.20batch/s, acc=0.08, loss=5.83]\n"
     ]
    },
    {
     "name": "stdout",
     "output_type": "stream",
     "text": [
      "Epoch 34 validation: Cross-entropy=5.82, Accuracy=8.4%\n"
     ]
    },
    {
     "name": "stderr",
     "output_type": "stream",
     "text": [
      "Epoch 35: 100%|██████████████████████████████████████████████| 322/322 [01:39<00:00,  3.24batch/s, acc=0.08, loss=5.83]\n"
     ]
    },
    {
     "name": "stdout",
     "output_type": "stream",
     "text": [
      "Epoch 35 validation: Cross-entropy=5.82, Accuracy=8.4%\n"
     ]
    },
    {
     "name": "stderr",
     "output_type": "stream",
     "text": [
      "Epoch 36: 100%|██████████████████████████████████████████████| 322/322 [01:38<00:00,  3.26batch/s, acc=0.08, loss=5.83]\n"
     ]
    },
    {
     "name": "stdout",
     "output_type": "stream",
     "text": [
      "Epoch 36 validation: Cross-entropy=5.82, Accuracy=8.4%\n"
     ]
    },
    {
     "name": "stderr",
     "output_type": "stream",
     "text": [
      "Epoch 37: 100%|██████████████████████████████████████████████| 322/322 [01:39<00:00,  3.24batch/s, acc=0.08, loss=5.83]\n"
     ]
    },
    {
     "name": "stdout",
     "output_type": "stream",
     "text": [
      "Epoch 37 validation: Cross-entropy=5.82, Accuracy=8.4%\n"
     ]
    },
    {
     "name": "stderr",
     "output_type": "stream",
     "text": [
      "Epoch 38: 100%|██████████████████████████████████████████████| 322/322 [01:39<00:00,  3.25batch/s, acc=0.08, loss=5.83]\n"
     ]
    },
    {
     "name": "stdout",
     "output_type": "stream",
     "text": [
      "Epoch 38 validation: Cross-entropy=5.82, Accuracy=8.4%\n"
     ]
    },
    {
     "name": "stderr",
     "output_type": "stream",
     "text": [
      "Epoch 39: 100%|██████████████████████████████████████████████| 322/322 [01:38<00:00,  3.27batch/s, acc=0.08, loss=5.83]\n"
     ]
    },
    {
     "name": "stdout",
     "output_type": "stream",
     "text": [
      "Epoch 39 validation: Cross-entropy=5.82, Accuracy=8.4%\n"
     ]
    },
    {
     "name": "stderr",
     "output_type": "stream",
     "text": [
      "Epoch 40: 100%|██████████████████████████████████████████████| 322/322 [01:38<00:00,  3.27batch/s, acc=0.08, loss=5.83]\n"
     ]
    },
    {
     "name": "stdout",
     "output_type": "stream",
     "text": [
      "Epoch 40 validation: Cross-entropy=5.82, Accuracy=8.4%\n"
     ]
    },
    {
     "name": "stderr",
     "output_type": "stream",
     "text": [
      "Epoch 41: 100%|██████████████████████████████████████████████| 322/322 [01:39<00:00,  3.24batch/s, acc=0.08, loss=5.83]\n"
     ]
    },
    {
     "name": "stdout",
     "output_type": "stream",
     "text": [
      "Epoch 41 validation: Cross-entropy=5.82, Accuracy=8.4%\n"
     ]
    },
    {
     "name": "stderr",
     "output_type": "stream",
     "text": [
      "Epoch 42: 100%|██████████████████████████████████████████████| 322/322 [01:39<00:00,  3.23batch/s, acc=0.08, loss=5.83]\n"
     ]
    },
    {
     "name": "stdout",
     "output_type": "stream",
     "text": [
      "Epoch 42 validation: Cross-entropy=5.82, Accuracy=8.4%\n"
     ]
    },
    {
     "name": "stderr",
     "output_type": "stream",
     "text": [
      "Epoch 43: 100%|██████████████████████████████████████████████| 322/322 [01:38<00:00,  3.27batch/s, acc=0.08, loss=5.83]\n"
     ]
    },
    {
     "name": "stdout",
     "output_type": "stream",
     "text": [
      "Epoch 43 validation: Cross-entropy=5.82, Accuracy=8.4%\n"
     ]
    },
    {
     "name": "stderr",
     "output_type": "stream",
     "text": [
      "Epoch 44: 100%|██████████████████████████████████████████████| 322/322 [01:38<00:00,  3.28batch/s, acc=0.08, loss=5.83]\n"
     ]
    },
    {
     "name": "stdout",
     "output_type": "stream",
     "text": [
      "Epoch 44 validation: Cross-entropy=5.82, Accuracy=8.4%\n"
     ]
    },
    {
     "name": "stderr",
     "output_type": "stream",
     "text": [
      "Epoch 45: 100%|██████████████████████████████████████████████| 322/322 [01:38<00:00,  3.26batch/s, acc=0.08, loss=5.83]\n"
     ]
    },
    {
     "name": "stdout",
     "output_type": "stream",
     "text": [
      "Epoch 45 validation: Cross-entropy=5.82, Accuracy=8.4%\n"
     ]
    },
    {
     "name": "stderr",
     "output_type": "stream",
     "text": [
      "Epoch 46: 100%|██████████████████████████████████████████████| 322/322 [01:39<00:00,  3.25batch/s, acc=0.08, loss=5.83]\n"
     ]
    },
    {
     "name": "stdout",
     "output_type": "stream",
     "text": [
      "Epoch 46 validation: Cross-entropy=5.82, Accuracy=8.4%\n"
     ]
    },
    {
     "name": "stderr",
     "output_type": "stream",
     "text": [
      "Epoch 47: 100%|██████████████████████████████████████████████| 322/322 [01:39<00:00,  3.24batch/s, acc=0.08, loss=5.83]\n"
     ]
    },
    {
     "name": "stdout",
     "output_type": "stream",
     "text": [
      "Epoch 47 validation: Cross-entropy=5.82, Accuracy=8.4%\n"
     ]
    },
    {
     "name": "stderr",
     "output_type": "stream",
     "text": [
      "Epoch 48: 100%|██████████████████████████████████████████████| 322/322 [01:38<00:00,  3.26batch/s, acc=0.08, loss=5.83]\n"
     ]
    },
    {
     "name": "stdout",
     "output_type": "stream",
     "text": [
      "Epoch 48 validation: Cross-entropy=5.82, Accuracy=8.4%\n"
     ]
    },
    {
     "name": "stderr",
     "output_type": "stream",
     "text": [
      "Epoch 49: 100%|██████████████████████████████████████████████| 322/322 [01:39<00:00,  3.24batch/s, acc=0.08, loss=5.83]\n"
     ]
    },
    {
     "name": "stdout",
     "output_type": "stream",
     "text": [
      "Epoch 49 validation: Cross-entropy=5.82, Accuracy=8.4%\n"
     ]
    },
    {
     "name": "stderr",
     "output_type": "stream",
     "text": [
      "Epoch 50: 100%|██████████████████████████████████████████████| 322/322 [01:41<00:00,  3.16batch/s, acc=0.08, loss=5.83]\n"
     ]
    },
    {
     "name": "stdout",
     "output_type": "stream",
     "text": [
      "Epoch 50 validation: Cross-entropy=5.82, Accuracy=8.4%\n"
     ]
    },
    {
     "name": "stderr",
     "output_type": "stream",
     "text": [
      "Epoch 51: 100%|██████████████████████████████████████████████| 322/322 [01:41<00:00,  3.17batch/s, acc=0.08, loss=5.83]\n"
     ]
    },
    {
     "name": "stdout",
     "output_type": "stream",
     "text": [
      "Epoch 51 validation: Cross-entropy=5.82, Accuracy=8.4%\n"
     ]
    },
    {
     "name": "stderr",
     "output_type": "stream",
     "text": [
      "Epoch 52: 100%|██████████████████████████████████████████████| 322/322 [01:42<00:00,  3.13batch/s, acc=0.08, loss=5.83]\n"
     ]
    },
    {
     "name": "stdout",
     "output_type": "stream",
     "text": [
      "Epoch 52 validation: Cross-entropy=5.82, Accuracy=8.4%\n"
     ]
    },
    {
     "name": "stderr",
     "output_type": "stream",
     "text": [
      "Epoch 53: 100%|██████████████████████████████████████████████| 322/322 [01:40<00:00,  3.20batch/s, acc=0.08, loss=5.83]\n"
     ]
    },
    {
     "name": "stdout",
     "output_type": "stream",
     "text": [
      "Epoch 53 validation: Cross-entropy=5.82, Accuracy=8.4%\n"
     ]
    },
    {
     "name": "stderr",
     "output_type": "stream",
     "text": [
      "Epoch 54: 100%|██████████████████████████████████████████████| 322/322 [01:40<00:00,  3.20batch/s, acc=0.08, loss=5.83]\n"
     ]
    },
    {
     "name": "stdout",
     "output_type": "stream",
     "text": [
      "Epoch 54 validation: Cross-entropy=5.82, Accuracy=8.4%\n"
     ]
    },
    {
     "name": "stderr",
     "output_type": "stream",
     "text": [
      "Epoch 55: 100%|██████████████████████████████████████████████| 322/322 [01:40<00:00,  3.20batch/s, acc=0.08, loss=5.83]\n"
     ]
    },
    {
     "name": "stdout",
     "output_type": "stream",
     "text": [
      "Epoch 55 validation: Cross-entropy=5.82, Accuracy=8.4%\n"
     ]
    },
    {
     "name": "stderr",
     "output_type": "stream",
     "text": [
      "Epoch 56: 100%|██████████████████████████████████████████████| 322/322 [01:40<00:00,  3.20batch/s, acc=0.08, loss=5.83]\n"
     ]
    },
    {
     "name": "stdout",
     "output_type": "stream",
     "text": [
      "Epoch 56 validation: Cross-entropy=5.82, Accuracy=8.4%\n"
     ]
    },
    {
     "name": "stderr",
     "output_type": "stream",
     "text": [
      "Epoch 57: 100%|██████████████████████████████████████████████| 322/322 [01:40<00:00,  3.19batch/s, acc=0.08, loss=5.83]\n"
     ]
    },
    {
     "name": "stdout",
     "output_type": "stream",
     "text": [
      "Epoch 57 validation: Cross-entropy=5.82, Accuracy=8.4%\n"
     ]
    },
    {
     "name": "stderr",
     "output_type": "stream",
     "text": [
      "Epoch 58: 100%|██████████████████████████████████████████████| 322/322 [01:39<00:00,  3.24batch/s, acc=0.08, loss=5.83]\n"
     ]
    },
    {
     "name": "stdout",
     "output_type": "stream",
     "text": [
      "Epoch 58 validation: Cross-entropy=5.82, Accuracy=8.4%\n"
     ]
    },
    {
     "name": "stderr",
     "output_type": "stream",
     "text": [
      "Epoch 59: 100%|██████████████████████████████████████████████| 322/322 [01:39<00:00,  3.25batch/s, acc=0.08, loss=5.83]\n"
     ]
    },
    {
     "name": "stdout",
     "output_type": "stream",
     "text": [
      "Epoch 59 validation: Cross-entropy=5.82, Accuracy=8.4%\n"
     ]
    },
    {
     "name": "stderr",
     "output_type": "stream",
     "text": [
      "Epoch 60: 100%|██████████████████████████████████████████████| 322/322 [01:39<00:00,  3.23batch/s, acc=0.08, loss=5.83]\n"
     ]
    },
    {
     "name": "stdout",
     "output_type": "stream",
     "text": [
      "Epoch 60 validation: Cross-entropy=5.82, Accuracy=8.4%\n"
     ]
    },
    {
     "name": "stderr",
     "output_type": "stream",
     "text": [
      "Epoch 61: 100%|██████████████████████████████████████████████| 322/322 [01:40<00:00,  3.19batch/s, acc=0.08, loss=5.83]\n"
     ]
    },
    {
     "name": "stdout",
     "output_type": "stream",
     "text": [
      "Epoch 61 validation: Cross-entropy=5.82, Accuracy=8.4%\n"
     ]
    },
    {
     "name": "stderr",
     "output_type": "stream",
     "text": [
      "Epoch 62: 100%|██████████████████████████████████████████████| 322/322 [01:39<00:00,  3.24batch/s, acc=0.08, loss=5.83]\n"
     ]
    },
    {
     "name": "stdout",
     "output_type": "stream",
     "text": [
      "Epoch 62 validation: Cross-entropy=5.82, Accuracy=8.4%\n"
     ]
    },
    {
     "name": "stderr",
     "output_type": "stream",
     "text": [
      "Epoch 63: 100%|██████████████████████████████████████████████| 322/322 [01:39<00:00,  3.24batch/s, acc=0.08, loss=5.83]\n"
     ]
    },
    {
     "name": "stdout",
     "output_type": "stream",
     "text": [
      "Epoch 63 validation: Cross-entropy=5.82, Accuracy=8.4%\n"
     ]
    },
    {
     "name": "stderr",
     "output_type": "stream",
     "text": [
      "Epoch 64: 100%|██████████████████████████████████████████████| 322/322 [01:39<00:00,  3.25batch/s, acc=0.08, loss=5.83]\n"
     ]
    },
    {
     "name": "stdout",
     "output_type": "stream",
     "text": [
      "Epoch 64 validation: Cross-entropy=5.82, Accuracy=8.4%\n"
     ]
    },
    {
     "name": "stderr",
     "output_type": "stream",
     "text": [
      "Epoch 65: 100%|██████████████████████████████████████████████| 322/322 [01:39<00:00,  3.25batch/s, acc=0.08, loss=5.83]\n"
     ]
    },
    {
     "name": "stdout",
     "output_type": "stream",
     "text": [
      "Epoch 65 validation: Cross-entropy=5.82, Accuracy=8.4%\n"
     ]
    },
    {
     "name": "stderr",
     "output_type": "stream",
     "text": [
      "Epoch 66: 100%|██████████████████████████████████████████████| 322/322 [01:38<00:00,  3.25batch/s, acc=0.08, loss=5.83]\n"
     ]
    },
    {
     "name": "stdout",
     "output_type": "stream",
     "text": [
      "Epoch 66 validation: Cross-entropy=5.82, Accuracy=8.4%\n"
     ]
    },
    {
     "name": "stderr",
     "output_type": "stream",
     "text": [
      "Epoch 67: 100%|██████████████████████████████████████████████| 322/322 [01:38<00:00,  3.26batch/s, acc=0.08, loss=5.83]\n"
     ]
    },
    {
     "name": "stdout",
     "output_type": "stream",
     "text": [
      "Epoch 67 validation: Cross-entropy=5.82, Accuracy=8.4%\n"
     ]
    },
    {
     "name": "stderr",
     "output_type": "stream",
     "text": [
      "Epoch 68: 100%|██████████████████████████████████████████████| 322/322 [01:39<00:00,  3.24batch/s, acc=0.08, loss=5.83]\n"
     ]
    },
    {
     "name": "stdout",
     "output_type": "stream",
     "text": [
      "Epoch 68 validation: Cross-entropy=5.82, Accuracy=8.4%\n"
     ]
    },
    {
     "name": "stderr",
     "output_type": "stream",
     "text": [
      "Epoch 69: 100%|██████████████████████████████████████████████| 322/322 [01:38<00:00,  3.26batch/s, acc=0.08, loss=5.83]\n"
     ]
    },
    {
     "name": "stdout",
     "output_type": "stream",
     "text": [
      "Epoch 69 validation: Cross-entropy=5.82, Accuracy=8.4%\n"
     ]
    },
    {
     "name": "stderr",
     "output_type": "stream",
     "text": [
      "Epoch 70: 100%|██████████████████████████████████████████████| 322/322 [01:39<00:00,  3.24batch/s, acc=0.08, loss=5.83]\n"
     ]
    },
    {
     "name": "stdout",
     "output_type": "stream",
     "text": [
      "Epoch 70 validation: Cross-entropy=5.82, Accuracy=8.4%\n"
     ]
    },
    {
     "name": "stderr",
     "output_type": "stream",
     "text": [
      "Epoch 71: 100%|██████████████████████████████████████████████| 322/322 [01:38<00:00,  3.26batch/s, acc=0.08, loss=5.83]\n"
     ]
    },
    {
     "name": "stdout",
     "output_type": "stream",
     "text": [
      "Epoch 71 validation: Cross-entropy=5.82, Accuracy=8.4%\n"
     ]
    },
    {
     "name": "stderr",
     "output_type": "stream",
     "text": [
      "Epoch 72: 100%|██████████████████████████████████████████████| 322/322 [01:38<00:00,  3.26batch/s, acc=0.08, loss=5.83]\n"
     ]
    },
    {
     "name": "stdout",
     "output_type": "stream",
     "text": [
      "Epoch 72 validation: Cross-entropy=5.82, Accuracy=8.4%\n"
     ]
    },
    {
     "name": "stderr",
     "output_type": "stream",
     "text": [
      "Epoch 73: 100%|██████████████████████████████████████████████| 322/322 [01:39<00:00,  3.23batch/s, acc=0.08, loss=5.83]\n"
     ]
    },
    {
     "name": "stdout",
     "output_type": "stream",
     "text": [
      "Epoch 73 validation: Cross-entropy=5.82, Accuracy=8.4%\n"
     ]
    },
    {
     "name": "stderr",
     "output_type": "stream",
     "text": [
      "Epoch 74: 100%|██████████████████████████████████████████████| 322/322 [01:40<00:00,  3.21batch/s, acc=0.08, loss=5.83]\n"
     ]
    },
    {
     "name": "stdout",
     "output_type": "stream",
     "text": [
      "Epoch 74 validation: Cross-entropy=5.82, Accuracy=8.4%\n"
     ]
    },
    {
     "name": "stderr",
     "output_type": "stream",
     "text": [
      "Epoch 75: 100%|██████████████████████████████████████████████| 322/322 [01:39<00:00,  3.23batch/s, acc=0.08, loss=5.83]\n"
     ]
    },
    {
     "name": "stdout",
     "output_type": "stream",
     "text": [
      "Epoch 75 validation: Cross-entropy=5.82, Accuracy=8.4%\n"
     ]
    },
    {
     "name": "stderr",
     "output_type": "stream",
     "text": [
      "Epoch 76: 100%|██████████████████████████████████████████████| 322/322 [01:39<00:00,  3.23batch/s, acc=0.08, loss=5.83]\n"
     ]
    },
    {
     "name": "stdout",
     "output_type": "stream",
     "text": [
      "Epoch 76 validation: Cross-entropy=5.82, Accuracy=8.4%\n"
     ]
    },
    {
     "name": "stderr",
     "output_type": "stream",
     "text": [
      "Epoch 77: 100%|██████████████████████████████████████████████| 322/322 [01:39<00:00,  3.25batch/s, acc=0.08, loss=5.83]\n"
     ]
    },
    {
     "name": "stdout",
     "output_type": "stream",
     "text": [
      "Epoch 77 validation: Cross-entropy=5.82, Accuracy=8.4%\n"
     ]
    },
    {
     "name": "stderr",
     "output_type": "stream",
     "text": [
      "Epoch 78: 100%|██████████████████████████████████████████████| 322/322 [01:38<00:00,  3.27batch/s, acc=0.08, loss=5.83]\n"
     ]
    },
    {
     "name": "stdout",
     "output_type": "stream",
     "text": [
      "Epoch 78 validation: Cross-entropy=5.82, Accuracy=8.4%\n"
     ]
    },
    {
     "name": "stderr",
     "output_type": "stream",
     "text": [
      "Epoch 79: 100%|██████████████████████████████████████████████| 322/322 [01:38<00:00,  3.27batch/s, acc=0.08, loss=5.83]\n"
     ]
    },
    {
     "name": "stdout",
     "output_type": "stream",
     "text": [
      "Epoch 79 validation: Cross-entropy=5.82, Accuracy=8.4%\n"
     ]
    },
    {
     "name": "stderr",
     "output_type": "stream",
     "text": [
      "Epoch 80: 100%|██████████████████████████████████████████████| 322/322 [01:38<00:00,  3.28batch/s, acc=0.08, loss=5.83]\n"
     ]
    },
    {
     "name": "stdout",
     "output_type": "stream",
     "text": [
      "Epoch 80 validation: Cross-entropy=5.82, Accuracy=8.4%\n"
     ]
    },
    {
     "name": "stderr",
     "output_type": "stream",
     "text": [
      "Epoch 81: 100%|██████████████████████████████████████████████| 322/322 [01:38<00:00,  3.27batch/s, acc=0.08, loss=5.83]\n"
     ]
    },
    {
     "name": "stdout",
     "output_type": "stream",
     "text": [
      "Epoch 81 validation: Cross-entropy=5.82, Accuracy=8.4%\n"
     ]
    },
    {
     "name": "stderr",
     "output_type": "stream",
     "text": [
      "Epoch 82: 100%|██████████████████████████████████████████████| 322/322 [01:37<00:00,  3.29batch/s, acc=0.08, loss=5.83]\n"
     ]
    },
    {
     "name": "stdout",
     "output_type": "stream",
     "text": [
      "Epoch 82 validation: Cross-entropy=5.82, Accuracy=8.4%\n"
     ]
    },
    {
     "name": "stderr",
     "output_type": "stream",
     "text": [
      "Epoch 83: 100%|██████████████████████████████████████████████| 322/322 [01:37<00:00,  3.30batch/s, acc=0.08, loss=5.83]\n"
     ]
    },
    {
     "name": "stdout",
     "output_type": "stream",
     "text": [
      "Epoch 83 validation: Cross-entropy=5.82, Accuracy=8.4%\n"
     ]
    },
    {
     "name": "stderr",
     "output_type": "stream",
     "text": [
      "Epoch 84: 100%|██████████████████████████████████████████████| 322/322 [01:38<00:00,  3.28batch/s, acc=0.08, loss=5.83]\n"
     ]
    },
    {
     "name": "stdout",
     "output_type": "stream",
     "text": [
      "Epoch 84 validation: Cross-entropy=5.82, Accuracy=8.4%\n"
     ]
    },
    {
     "name": "stderr",
     "output_type": "stream",
     "text": [
      "Epoch 85: 100%|██████████████████████████████████████████████| 322/322 [01:39<00:00,  3.24batch/s, acc=0.08, loss=5.83]\n"
     ]
    },
    {
     "name": "stdout",
     "output_type": "stream",
     "text": [
      "Epoch 85 validation: Cross-entropy=5.82, Accuracy=8.4%\n"
     ]
    },
    {
     "name": "stderr",
     "output_type": "stream",
     "text": [
      "Epoch 86: 100%|██████████████████████████████████████████████| 322/322 [01:38<00:00,  3.26batch/s, acc=0.08, loss=5.83]\n"
     ]
    },
    {
     "name": "stdout",
     "output_type": "stream",
     "text": [
      "Epoch 86 validation: Cross-entropy=5.82, Accuracy=8.4%\n"
     ]
    },
    {
     "name": "stderr",
     "output_type": "stream",
     "text": [
      "Epoch 87: 100%|██████████████████████████████████████████████| 322/322 [01:38<00:00,  3.26batch/s, acc=0.08, loss=5.83]\n"
     ]
    },
    {
     "name": "stdout",
     "output_type": "stream",
     "text": [
      "Epoch 87 validation: Cross-entropy=5.82, Accuracy=8.4%\n"
     ]
    },
    {
     "name": "stderr",
     "output_type": "stream",
     "text": [
      "Epoch 88: 100%|██████████████████████████████████████████████| 322/322 [01:38<00:00,  3.28batch/s, acc=0.08, loss=5.83]\n"
     ]
    },
    {
     "name": "stdout",
     "output_type": "stream",
     "text": [
      "Epoch 88 validation: Cross-entropy=5.82, Accuracy=8.4%\n"
     ]
    },
    {
     "name": "stderr",
     "output_type": "stream",
     "text": [
      "Epoch 89: 100%|██████████████████████████████████████████████| 322/322 [01:39<00:00,  3.24batch/s, acc=0.08, loss=5.83]\n"
     ]
    },
    {
     "name": "stdout",
     "output_type": "stream",
     "text": [
      "Epoch 89 validation: Cross-entropy=5.82, Accuracy=8.4%\n"
     ]
    },
    {
     "name": "stderr",
     "output_type": "stream",
     "text": [
      "Epoch 90: 100%|██████████████████████████████████████████████| 322/322 [01:39<00:00,  3.24batch/s, acc=0.08, loss=5.83]\n"
     ]
    },
    {
     "name": "stdout",
     "output_type": "stream",
     "text": [
      "Epoch 90 validation: Cross-entropy=5.82, Accuracy=8.4%\n"
     ]
    },
    {
     "name": "stderr",
     "output_type": "stream",
     "text": [
      "Epoch 91: 100%|██████████████████████████████████████████████| 322/322 [01:39<00:00,  3.25batch/s, acc=0.08, loss=5.83]\n"
     ]
    },
    {
     "name": "stdout",
     "output_type": "stream",
     "text": [
      "Epoch 91 validation: Cross-entropy=5.82, Accuracy=8.4%\n"
     ]
    },
    {
     "name": "stderr",
     "output_type": "stream",
     "text": [
      "Epoch 92: 100%|██████████████████████████████████████████████| 322/322 [01:38<00:00,  3.26batch/s, acc=0.08, loss=5.83]\n"
     ]
    },
    {
     "name": "stdout",
     "output_type": "stream",
     "text": [
      "Epoch 92 validation: Cross-entropy=5.82, Accuracy=8.4%\n"
     ]
    },
    {
     "name": "stderr",
     "output_type": "stream",
     "text": [
      "Epoch 93: 100%|██████████████████████████████████████████████| 322/322 [01:37<00:00,  3.30batch/s, acc=0.08, loss=5.83]\n"
     ]
    },
    {
     "name": "stdout",
     "output_type": "stream",
     "text": [
      "Epoch 93 validation: Cross-entropy=5.82, Accuracy=8.4%\n"
     ]
    },
    {
     "name": "stderr",
     "output_type": "stream",
     "text": [
      "Epoch 94: 100%|██████████████████████████████████████████████| 322/322 [01:37<00:00,  3.31batch/s, acc=0.08, loss=5.83]\n"
     ]
    },
    {
     "name": "stdout",
     "output_type": "stream",
     "text": [
      "Epoch 94 validation: Cross-entropy=5.82, Accuracy=8.4%\n"
     ]
    },
    {
     "name": "stderr",
     "output_type": "stream",
     "text": [
      "Epoch 95: 100%|██████████████████████████████████████████████| 322/322 [01:36<00:00,  3.34batch/s, acc=0.08, loss=5.83]\n"
     ]
    },
    {
     "name": "stdout",
     "output_type": "stream",
     "text": [
      "Epoch 95 validation: Cross-entropy=5.82, Accuracy=8.4%\n"
     ]
    },
    {
     "name": "stderr",
     "output_type": "stream",
     "text": [
      "Epoch 96: 100%|██████████████████████████████████████████████| 322/322 [01:36<00:00,  3.32batch/s, acc=0.08, loss=5.83]\n"
     ]
    },
    {
     "name": "stdout",
     "output_type": "stream",
     "text": [
      "Epoch 96 validation: Cross-entropy=5.82, Accuracy=8.4%\n"
     ]
    },
    {
     "name": "stderr",
     "output_type": "stream",
     "text": [
      "Epoch 97: 100%|██████████████████████████████████████████████| 322/322 [01:36<00:00,  3.35batch/s, acc=0.08, loss=5.83]\n"
     ]
    },
    {
     "name": "stdout",
     "output_type": "stream",
     "text": [
      "Epoch 97 validation: Cross-entropy=5.82, Accuracy=8.4%\n"
     ]
    },
    {
     "name": "stderr",
     "output_type": "stream",
     "text": [
      "Epoch 98: 100%|██████████████████████████████████████████████| 322/322 [01:35<00:00,  3.36batch/s, acc=0.08, loss=5.83]\n"
     ]
    },
    {
     "name": "stdout",
     "output_type": "stream",
     "text": [
      "Epoch 98 validation: Cross-entropy=5.82, Accuracy=8.4%\n"
     ]
    },
    {
     "name": "stderr",
     "output_type": "stream",
     "text": [
      "Epoch 99: 100%|██████████████████████████████████████████████| 322/322 [01:35<00:00,  3.36batch/s, acc=0.08, loss=5.83]\n"
     ]
    },
    {
     "name": "stdout",
     "output_type": "stream",
     "text": [
      "Epoch 99 validation: Cross-entropy=5.82, Accuracy=8.4%\n"
     ]
    },
    {
     "name": "stderr",
     "output_type": "stream",
     "text": [
      "Epoch 100: 100%|█████████████████████████████████████████████| 322/322 [01:35<00:00,  3.38batch/s, acc=0.08, loss=5.83]\n"
     ]
    },
    {
     "name": "stdout",
     "output_type": "stream",
     "text": [
      "Epoch 100 validation: Cross-entropy=5.82, Accuracy=8.4%\n"
     ]
    },
    {
     "name": "stderr",
     "output_type": "stream",
     "text": [
      "Epoch 101: 100%|█████████████████████████████████████████████| 322/322 [01:35<00:00,  3.38batch/s, acc=0.08, loss=5.83]\n"
     ]
    },
    {
     "name": "stdout",
     "output_type": "stream",
     "text": [
      "Epoch 101 validation: Cross-entropy=5.82, Accuracy=8.4%\n"
     ]
    },
    {
     "name": "stderr",
     "output_type": "stream",
     "text": [
      "Epoch 102: 100%|█████████████████████████████████████████████| 322/322 [01:35<00:00,  3.38batch/s, acc=0.08, loss=5.83]\n"
     ]
    },
    {
     "name": "stdout",
     "output_type": "stream",
     "text": [
      "Epoch 102 validation: Cross-entropy=5.82, Accuracy=8.4%\n"
     ]
    },
    {
     "name": "stderr",
     "output_type": "stream",
     "text": [
      "Epoch 103: 100%|█████████████████████████████████████████████| 322/322 [01:35<00:00,  3.38batch/s, acc=0.08, loss=5.83]\n"
     ]
    },
    {
     "name": "stdout",
     "output_type": "stream",
     "text": [
      "Epoch 103 validation: Cross-entropy=5.82, Accuracy=8.4%\n"
     ]
    },
    {
     "name": "stderr",
     "output_type": "stream",
     "text": [
      "Epoch 104: 100%|█████████████████████████████████████████████| 322/322 [01:35<00:00,  3.38batch/s, acc=0.08, loss=5.83]\n"
     ]
    },
    {
     "name": "stdout",
     "output_type": "stream",
     "text": [
      "Epoch 104 validation: Cross-entropy=5.82, Accuracy=8.4%\n"
     ]
    },
    {
     "name": "stderr",
     "output_type": "stream",
     "text": [
      "Epoch 105: 100%|█████████████████████████████████████████████| 322/322 [01:35<00:00,  3.38batch/s, acc=0.08, loss=5.83]\n"
     ]
    },
    {
     "name": "stdout",
     "output_type": "stream",
     "text": [
      "Epoch 105 validation: Cross-entropy=5.82, Accuracy=8.4%\n"
     ]
    },
    {
     "name": "stderr",
     "output_type": "stream",
     "text": [
      "Epoch 106: 100%|█████████████████████████████████████████████| 322/322 [01:35<00:00,  3.38batch/s, acc=0.08, loss=5.83]\n"
     ]
    },
    {
     "name": "stdout",
     "output_type": "stream",
     "text": [
      "Epoch 106 validation: Cross-entropy=5.82, Accuracy=8.4%\n"
     ]
    },
    {
     "name": "stderr",
     "output_type": "stream",
     "text": [
      "Epoch 107: 100%|█████████████████████████████████████████████| 322/322 [01:35<00:00,  3.37batch/s, acc=0.08, loss=5.83]\n"
     ]
    },
    {
     "name": "stdout",
     "output_type": "stream",
     "text": [
      "Epoch 107 validation: Cross-entropy=5.82, Accuracy=8.4%\n"
     ]
    },
    {
     "name": "stderr",
     "output_type": "stream",
     "text": [
      "Epoch 108: 100%|█████████████████████████████████████████████| 322/322 [01:38<00:00,  3.27batch/s, acc=0.08, loss=5.83]\n"
     ]
    },
    {
     "name": "stdout",
     "output_type": "stream",
     "text": [
      "Epoch 108 validation: Cross-entropy=5.82, Accuracy=8.4%\n"
     ]
    },
    {
     "name": "stderr",
     "output_type": "stream",
     "text": [
      "Epoch 109: 100%|█████████████████████████████████████████████| 322/322 [01:38<00:00,  3.28batch/s, acc=0.08, loss=5.83]\n"
     ]
    },
    {
     "name": "stdout",
     "output_type": "stream",
     "text": [
      "Epoch 109 validation: Cross-entropy=5.82, Accuracy=8.4%\n"
     ]
    },
    {
     "name": "stderr",
     "output_type": "stream",
     "text": [
      "Epoch 110: 100%|█████████████████████████████████████████████| 322/322 [01:38<00:00,  3.28batch/s, acc=0.08, loss=5.83]\n"
     ]
    },
    {
     "name": "stdout",
     "output_type": "stream",
     "text": [
      "Epoch 110 validation: Cross-entropy=5.82, Accuracy=8.4%\n"
     ]
    },
    {
     "name": "stderr",
     "output_type": "stream",
     "text": [
      "Epoch 111: 100%|█████████████████████████████████████████████| 322/322 [01:37<00:00,  3.29batch/s, acc=0.08, loss=5.83]\n"
     ]
    },
    {
     "name": "stdout",
     "output_type": "stream",
     "text": [
      "Epoch 111 validation: Cross-entropy=5.82, Accuracy=8.4%\n"
     ]
    },
    {
     "name": "stderr",
     "output_type": "stream",
     "text": [
      "Epoch 112: 100%|█████████████████████████████████████████████| 322/322 [01:38<00:00,  3.25batch/s, acc=0.08, loss=5.83]\n"
     ]
    },
    {
     "name": "stdout",
     "output_type": "stream",
     "text": [
      "Epoch 112 validation: Cross-entropy=5.82, Accuracy=8.4%\n"
     ]
    },
    {
     "name": "stderr",
     "output_type": "stream",
     "text": [
      "Epoch 113: 100%|█████████████████████████████████████████████| 322/322 [01:37<00:00,  3.29batch/s, acc=0.08, loss=5.83]\n"
     ]
    },
    {
     "name": "stdout",
     "output_type": "stream",
     "text": [
      "Epoch 113 validation: Cross-entropy=5.82, Accuracy=8.4%\n"
     ]
    },
    {
     "name": "stderr",
     "output_type": "stream",
     "text": [
      "Epoch 114: 100%|█████████████████████████████████████████████| 322/322 [01:38<00:00,  3.28batch/s, acc=0.08, loss=5.83]\n"
     ]
    },
    {
     "name": "stdout",
     "output_type": "stream",
     "text": [
      "Epoch 114 validation: Cross-entropy=5.82, Accuracy=8.4%\n"
     ]
    },
    {
     "name": "stderr",
     "output_type": "stream",
     "text": [
      "Epoch 115: 100%|█████████████████████████████████████████████| 322/322 [01:38<00:00,  3.28batch/s, acc=0.08, loss=5.83]\n"
     ]
    },
    {
     "name": "stdout",
     "output_type": "stream",
     "text": [
      "Epoch 115 validation: Cross-entropy=5.82, Accuracy=8.4%\n"
     ]
    },
    {
     "name": "stderr",
     "output_type": "stream",
     "text": [
      "Epoch 116: 100%|█████████████████████████████████████████████| 322/322 [01:38<00:00,  3.27batch/s, acc=0.08, loss=5.83]\n"
     ]
    },
    {
     "name": "stdout",
     "output_type": "stream",
     "text": [
      "Epoch 116 validation: Cross-entropy=5.82, Accuracy=8.4%\n"
     ]
    },
    {
     "name": "stderr",
     "output_type": "stream",
     "text": [
      "Epoch 117: 100%|█████████████████████████████████████████████| 322/322 [01:38<00:00,  3.28batch/s, acc=0.08, loss=5.83]\n"
     ]
    },
    {
     "name": "stdout",
     "output_type": "stream",
     "text": [
      "Epoch 117 validation: Cross-entropy=5.82, Accuracy=8.4%\n"
     ]
    },
    {
     "name": "stderr",
     "output_type": "stream",
     "text": [
      "Epoch 118: 100%|█████████████████████████████████████████████| 322/322 [01:38<00:00,  3.26batch/s, acc=0.08, loss=5.83]\n"
     ]
    },
    {
     "name": "stdout",
     "output_type": "stream",
     "text": [
      "Epoch 118 validation: Cross-entropy=5.82, Accuracy=8.4%\n"
     ]
    },
    {
     "name": "stderr",
     "output_type": "stream",
     "text": [
      "Epoch 119: 100%|█████████████████████████████████████████████| 322/322 [01:38<00:00,  3.28batch/s, acc=0.08, loss=5.83]\n"
     ]
    },
    {
     "name": "stdout",
     "output_type": "stream",
     "text": [
      "Epoch 119 validation: Cross-entropy=5.82, Accuracy=8.4%\n"
     ]
    },
    {
     "name": "stderr",
     "output_type": "stream",
     "text": [
      "Epoch 120: 100%|█████████████████████████████████████████████| 322/322 [01:36<00:00,  3.32batch/s, acc=0.08, loss=5.83]\n"
     ]
    },
    {
     "name": "stdout",
     "output_type": "stream",
     "text": [
      "Epoch 120 validation: Cross-entropy=5.82, Accuracy=8.4%\n"
     ]
    },
    {
     "name": "stderr",
     "output_type": "stream",
     "text": [
      "Epoch 121: 100%|█████████████████████████████████████████████| 322/322 [01:36<00:00,  3.32batch/s, acc=0.08, loss=5.83]\n"
     ]
    },
    {
     "name": "stdout",
     "output_type": "stream",
     "text": [
      "Epoch 121 validation: Cross-entropy=5.82, Accuracy=8.4%\n"
     ]
    },
    {
     "name": "stderr",
     "output_type": "stream",
     "text": [
      "Epoch 122: 100%|█████████████████████████████████████████████| 322/322 [01:36<00:00,  3.33batch/s, acc=0.08, loss=5.83]\n"
     ]
    },
    {
     "name": "stdout",
     "output_type": "stream",
     "text": [
      "Epoch 122 validation: Cross-entropy=5.82, Accuracy=8.4%\n"
     ]
    },
    {
     "name": "stderr",
     "output_type": "stream",
     "text": [
      "Epoch 123: 100%|█████████████████████████████████████████████| 322/322 [01:36<00:00,  3.33batch/s, acc=0.08, loss=5.83]\n"
     ]
    },
    {
     "name": "stdout",
     "output_type": "stream",
     "text": [
      "Epoch 123 validation: Cross-entropy=5.82, Accuracy=8.4%\n"
     ]
    },
    {
     "name": "stderr",
     "output_type": "stream",
     "text": [
      "Epoch 124: 100%|█████████████████████████████████████████████| 322/322 [01:36<00:00,  3.32batch/s, acc=0.08, loss=5.83]\n"
     ]
    },
    {
     "name": "stdout",
     "output_type": "stream",
     "text": [
      "Epoch 124 validation: Cross-entropy=5.82, Accuracy=8.4%\n"
     ]
    },
    {
     "name": "stderr",
     "output_type": "stream",
     "text": [
      "Epoch 125: 100%|█████████████████████████████████████████████| 322/322 [01:36<00:00,  3.33batch/s, acc=0.08, loss=5.83]\n"
     ]
    },
    {
     "name": "stdout",
     "output_type": "stream",
     "text": [
      "Epoch 125 validation: Cross-entropy=5.82, Accuracy=8.4%\n"
     ]
    },
    {
     "name": "stderr",
     "output_type": "stream",
     "text": [
      "Epoch 126: 100%|█████████████████████████████████████████████| 322/322 [01:37<00:00,  3.32batch/s, acc=0.08, loss=5.83]\n"
     ]
    },
    {
     "name": "stdout",
     "output_type": "stream",
     "text": [
      "Epoch 126 validation: Cross-entropy=5.82, Accuracy=8.4%\n"
     ]
    },
    {
     "name": "stderr",
     "output_type": "stream",
     "text": [
      "Epoch 127: 100%|█████████████████████████████████████████████| 322/322 [01:37<00:00,  3.31batch/s, acc=0.08, loss=5.83]\n"
     ]
    },
    {
     "name": "stdout",
     "output_type": "stream",
     "text": [
      "Epoch 127 validation: Cross-entropy=5.82, Accuracy=8.4%\n"
     ]
    },
    {
     "name": "stderr",
     "output_type": "stream",
     "text": [
      "Epoch 128: 100%|█████████████████████████████████████████████| 322/322 [01:38<00:00,  3.27batch/s, acc=0.08, loss=5.83]\n"
     ]
    },
    {
     "name": "stdout",
     "output_type": "stream",
     "text": [
      "Epoch 128 validation: Cross-entropy=5.82, Accuracy=8.4%\n"
     ]
    },
    {
     "name": "stderr",
     "output_type": "stream",
     "text": [
      "Epoch 129: 100%|█████████████████████████████████████████████| 322/322 [01:39<00:00,  3.25batch/s, acc=0.08, loss=5.83]\n"
     ]
    },
    {
     "name": "stdout",
     "output_type": "stream",
     "text": [
      "Epoch 129 validation: Cross-entropy=5.82, Accuracy=8.4%\n"
     ]
    },
    {
     "name": "stderr",
     "output_type": "stream",
     "text": [
      "Epoch 130: 100%|█████████████████████████████████████████████| 322/322 [01:38<00:00,  3.26batch/s, acc=0.08, loss=5.83]\n"
     ]
    },
    {
     "name": "stdout",
     "output_type": "stream",
     "text": [
      "Epoch 130 validation: Cross-entropy=5.82, Accuracy=8.4%\n"
     ]
    },
    {
     "name": "stderr",
     "output_type": "stream",
     "text": [
      "Epoch 131: 100%|█████████████████████████████████████████████| 322/322 [01:38<00:00,  3.26batch/s, acc=0.08, loss=5.83]\n"
     ]
    },
    {
     "name": "stdout",
     "output_type": "stream",
     "text": [
      "Epoch 131 validation: Cross-entropy=5.82, Accuracy=8.4%\n"
     ]
    },
    {
     "name": "stderr",
     "output_type": "stream",
     "text": [
      "Epoch 132: 100%|█████████████████████████████████████████████| 322/322 [01:38<00:00,  3.26batch/s, acc=0.08, loss=5.83]\n"
     ]
    },
    {
     "name": "stdout",
     "output_type": "stream",
     "text": [
      "Epoch 132 validation: Cross-entropy=5.82, Accuracy=8.4%\n"
     ]
    },
    {
     "name": "stderr",
     "output_type": "stream",
     "text": [
      "Epoch 133: 100%|█████████████████████████████████████████████| 322/322 [01:38<00:00,  3.26batch/s, acc=0.08, loss=5.83]\n"
     ]
    },
    {
     "name": "stdout",
     "output_type": "stream",
     "text": [
      "Epoch 133 validation: Cross-entropy=5.82, Accuracy=8.4%\n"
     ]
    },
    {
     "name": "stderr",
     "output_type": "stream",
     "text": [
      "Epoch 134: 100%|█████████████████████████████████████████████| 322/322 [01:40<00:00,  3.22batch/s, acc=0.08, loss=5.83]\n"
     ]
    },
    {
     "name": "stdout",
     "output_type": "stream",
     "text": [
      "Epoch 134 validation: Cross-entropy=5.82, Accuracy=8.4%\n"
     ]
    },
    {
     "name": "stderr",
     "output_type": "stream",
     "text": [
      "Epoch 135: 100%|█████████████████████████████████████████████| 322/322 [01:39<00:00,  3.23batch/s, acc=0.08, loss=5.83]\n"
     ]
    },
    {
     "name": "stdout",
     "output_type": "stream",
     "text": [
      "Epoch 135 validation: Cross-entropy=5.82, Accuracy=8.4%\n"
     ]
    },
    {
     "name": "stderr",
     "output_type": "stream",
     "text": [
      "Epoch 136: 100%|█████████████████████████████████████████████| 322/322 [01:42<00:00,  3.15batch/s, acc=0.08, loss=5.83]\n"
     ]
    },
    {
     "name": "stdout",
     "output_type": "stream",
     "text": [
      "Epoch 136 validation: Cross-entropy=5.82, Accuracy=8.4%\n"
     ]
    },
    {
     "name": "stderr",
     "output_type": "stream",
     "text": [
      "Epoch 137: 100%|█████████████████████████████████████████████| 322/322 [01:41<00:00,  3.17batch/s, acc=0.08, loss=5.83]\n"
     ]
    },
    {
     "name": "stdout",
     "output_type": "stream",
     "text": [
      "Epoch 137 validation: Cross-entropy=5.82, Accuracy=8.4%\n"
     ]
    },
    {
     "name": "stderr",
     "output_type": "stream",
     "text": [
      "Epoch 138: 100%|█████████████████████████████████████████████| 322/322 [01:40<00:00,  3.21batch/s, acc=0.08, loss=5.83]\n"
     ]
    },
    {
     "name": "stdout",
     "output_type": "stream",
     "text": [
      "Epoch 138 validation: Cross-entropy=5.82, Accuracy=8.4%\n"
     ]
    },
    {
     "name": "stderr",
     "output_type": "stream",
     "text": [
      "Epoch 139: 100%|█████████████████████████████████████████████| 322/322 [01:40<00:00,  3.21batch/s, acc=0.08, loss=5.83]\n"
     ]
    },
    {
     "name": "stdout",
     "output_type": "stream",
     "text": [
      "Epoch 139 validation: Cross-entropy=5.82, Accuracy=8.4%\n"
     ]
    },
    {
     "name": "stderr",
     "output_type": "stream",
     "text": [
      "Epoch 140: 100%|█████████████████████████████████████████████| 322/322 [01:40<00:00,  3.22batch/s, acc=0.08, loss=5.83]\n"
     ]
    },
    {
     "name": "stdout",
     "output_type": "stream",
     "text": [
      "Epoch 140 validation: Cross-entropy=5.82, Accuracy=8.4%\n"
     ]
    },
    {
     "name": "stderr",
     "output_type": "stream",
     "text": [
      "Epoch 141: 100%|█████████████████████████████████████████████| 322/322 [01:40<00:00,  3.22batch/s, acc=0.08, loss=5.83]\n"
     ]
    },
    {
     "name": "stdout",
     "output_type": "stream",
     "text": [
      "Epoch 141 validation: Cross-entropy=5.82, Accuracy=8.4%\n"
     ]
    },
    {
     "name": "stderr",
     "output_type": "stream",
     "text": [
      "Epoch 142: 100%|█████████████████████████████████████████████| 322/322 [01:40<00:00,  3.20batch/s, acc=0.08, loss=5.83]\n"
     ]
    },
    {
     "name": "stdout",
     "output_type": "stream",
     "text": [
      "Epoch 142 validation: Cross-entropy=5.82, Accuracy=8.4%\n"
     ]
    },
    {
     "name": "stderr",
     "output_type": "stream",
     "text": [
      "Epoch 143: 100%|█████████████████████████████████████████████| 322/322 [01:41<00:00,  3.19batch/s, acc=0.08, loss=5.83]\n"
     ]
    },
    {
     "name": "stdout",
     "output_type": "stream",
     "text": [
      "Epoch 143 validation: Cross-entropy=5.82, Accuracy=8.4%\n"
     ]
    },
    {
     "name": "stderr",
     "output_type": "stream",
     "text": [
      "Epoch 144: 100%|█████████████████████████████████████████████| 322/322 [01:41<00:00,  3.18batch/s, acc=0.08, loss=5.83]\n"
     ]
    },
    {
     "name": "stdout",
     "output_type": "stream",
     "text": [
      "Epoch 144 validation: Cross-entropy=5.82, Accuracy=8.4%\n"
     ]
    },
    {
     "name": "stderr",
     "output_type": "stream",
     "text": [
      "Epoch 145: 100%|█████████████████████████████████████████████| 322/322 [01:40<00:00,  3.20batch/s, acc=0.08, loss=5.83]\n"
     ]
    },
    {
     "name": "stdout",
     "output_type": "stream",
     "text": [
      "Epoch 145 validation: Cross-entropy=5.82, Accuracy=8.4%\n"
     ]
    },
    {
     "name": "stderr",
     "output_type": "stream",
     "text": [
      "Epoch 146: 100%|█████████████████████████████████████████████| 322/322 [01:41<00:00,  3.18batch/s, acc=0.08, loss=5.83]\n"
     ]
    },
    {
     "name": "stdout",
     "output_type": "stream",
     "text": [
      "Epoch 146 validation: Cross-entropy=5.82, Accuracy=8.4%\n"
     ]
    },
    {
     "name": "stderr",
     "output_type": "stream",
     "text": [
      "Epoch 147: 100%|█████████████████████████████████████████████| 322/322 [01:41<00:00,  3.18batch/s, acc=0.08, loss=5.83]\n"
     ]
    },
    {
     "name": "stdout",
     "output_type": "stream",
     "text": [
      "Epoch 147 validation: Cross-entropy=5.82, Accuracy=8.4%\n"
     ]
    },
    {
     "name": "stderr",
     "output_type": "stream",
     "text": [
      "Epoch 148: 100%|█████████████████████████████████████████████| 322/322 [01:41<00:00,  3.18batch/s, acc=0.08, loss=5.83]\n"
     ]
    },
    {
     "name": "stdout",
     "output_type": "stream",
     "text": [
      "Epoch 148 validation: Cross-entropy=5.82, Accuracy=8.4%\n"
     ]
    },
    {
     "name": "stderr",
     "output_type": "stream",
     "text": [
      "Epoch 149: 100%|█████████████████████████████████████████████| 322/322 [01:41<00:00,  3.17batch/s, acc=0.08, loss=5.83]\n"
     ]
    },
    {
     "name": "stdout",
     "output_type": "stream",
     "text": [
      "Epoch 149 validation: Cross-entropy=5.82, Accuracy=8.4%\n"
     ]
    },
    {
     "name": "stderr",
     "output_type": "stream",
     "text": [
      "Epoch 150: 100%|█████████████████████████████████████████████| 322/322 [01:42<00:00,  3.15batch/s, acc=0.08, loss=5.83]\n"
     ]
    },
    {
     "name": "stdout",
     "output_type": "stream",
     "text": [
      "Epoch 150 validation: Cross-entropy=5.82, Accuracy=8.4%\n"
     ]
    },
    {
     "name": "stderr",
     "output_type": "stream",
     "text": [
      "Epoch 151: 100%|█████████████████████████████████████████████| 322/322 [01:42<00:00,  3.13batch/s, acc=0.08, loss=5.83]\n"
     ]
    },
    {
     "name": "stdout",
     "output_type": "stream",
     "text": [
      "Epoch 151 validation: Cross-entropy=5.82, Accuracy=8.4%\n"
     ]
    },
    {
     "name": "stderr",
     "output_type": "stream",
     "text": [
      "Epoch 152: 100%|█████████████████████████████████████████████| 322/322 [01:43<00:00,  3.12batch/s, acc=0.08, loss=5.83]\n"
     ]
    },
    {
     "name": "stdout",
     "output_type": "stream",
     "text": [
      "Epoch 152 validation: Cross-entropy=5.82, Accuracy=8.4%\n"
     ]
    },
    {
     "name": "stderr",
     "output_type": "stream",
     "text": [
      "Epoch 153: 100%|█████████████████████████████████████████████| 322/322 [01:45<00:00,  3.06batch/s, acc=0.08, loss=5.83]\n"
     ]
    },
    {
     "name": "stdout",
     "output_type": "stream",
     "text": [
      "Epoch 153 validation: Cross-entropy=5.82, Accuracy=8.4%\n"
     ]
    },
    {
     "name": "stderr",
     "output_type": "stream",
     "text": [
      "Epoch 154: 100%|█████████████████████████████████████████████| 322/322 [01:45<00:00,  3.06batch/s, acc=0.08, loss=5.83]\n"
     ]
    },
    {
     "name": "stdout",
     "output_type": "stream",
     "text": [
      "Epoch 154 validation: Cross-entropy=5.82, Accuracy=8.4%\n"
     ]
    },
    {
     "name": "stderr",
     "output_type": "stream",
     "text": [
      "Epoch 155: 100%|█████████████████████████████████████████████| 322/322 [01:46<00:00,  3.03batch/s, acc=0.08, loss=5.83]\n"
     ]
    },
    {
     "name": "stdout",
     "output_type": "stream",
     "text": [
      "Epoch 155 validation: Cross-entropy=5.82, Accuracy=8.4%\n"
     ]
    },
    {
     "name": "stderr",
     "output_type": "stream",
     "text": [
      "Epoch 156: 100%|█████████████████████████████████████████████| 322/322 [01:47<00:00,  3.00batch/s, acc=0.08, loss=5.83]\n"
     ]
    },
    {
     "name": "stdout",
     "output_type": "stream",
     "text": [
      "Epoch 156 validation: Cross-entropy=5.82, Accuracy=8.4%\n"
     ]
    },
    {
     "name": "stderr",
     "output_type": "stream",
     "text": [
      "Epoch 157: 100%|█████████████████████████████████████████████| 322/322 [01:48<00:00,  2.97batch/s, acc=0.08, loss=5.83]\n"
     ]
    },
    {
     "name": "stdout",
     "output_type": "stream",
     "text": [
      "Epoch 157 validation: Cross-entropy=5.82, Accuracy=8.4%\n"
     ]
    },
    {
     "name": "stderr",
     "output_type": "stream",
     "text": [
      "Epoch 158: 100%|█████████████████████████████████████████████| 322/322 [01:49<00:00,  2.93batch/s, acc=0.08, loss=5.83]\n"
     ]
    },
    {
     "name": "stdout",
     "output_type": "stream",
     "text": [
      "Epoch 158 validation: Cross-entropy=5.82, Accuracy=8.4%\n"
     ]
    },
    {
     "name": "stderr",
     "output_type": "stream",
     "text": [
      "Epoch 159: 100%|█████████████████████████████████████████████| 322/322 [01:51<00:00,  2.90batch/s, acc=0.08, loss=5.83]\n"
     ]
    },
    {
     "name": "stdout",
     "output_type": "stream",
     "text": [
      "Epoch 159 validation: Cross-entropy=5.82, Accuracy=8.4%\n"
     ]
    },
    {
     "name": "stderr",
     "output_type": "stream",
     "text": [
      "Epoch 160: 100%|█████████████████████████████████████████████| 322/322 [01:52<00:00,  2.87batch/s, acc=0.08, loss=5.83]\n"
     ]
    },
    {
     "name": "stdout",
     "output_type": "stream",
     "text": [
      "Epoch 160 validation: Cross-entropy=5.82, Accuracy=8.4%\n"
     ]
    },
    {
     "name": "stderr",
     "output_type": "stream",
     "text": [
      "Epoch 161: 100%|█████████████████████████████████████████████| 322/322 [01:53<00:00,  2.84batch/s, acc=0.08, loss=5.83]\n"
     ]
    },
    {
     "name": "stdout",
     "output_type": "stream",
     "text": [
      "Epoch 161 validation: Cross-entropy=5.82, Accuracy=8.4%\n"
     ]
    },
    {
     "name": "stderr",
     "output_type": "stream",
     "text": [
      "Epoch 162: 100%|█████████████████████████████████████████████| 322/322 [01:54<00:00,  2.81batch/s, acc=0.08, loss=5.83]\n"
     ]
    },
    {
     "name": "stdout",
     "output_type": "stream",
     "text": [
      "Epoch 162 validation: Cross-entropy=5.82, Accuracy=8.4%\n"
     ]
    },
    {
     "name": "stderr",
     "output_type": "stream",
     "text": [
      "Epoch 163: 100%|█████████████████████████████████████████████| 322/322 [01:55<00:00,  2.78batch/s, acc=0.08, loss=5.83]\n"
     ]
    },
    {
     "name": "stdout",
     "output_type": "stream",
     "text": [
      "Epoch 163 validation: Cross-entropy=5.82, Accuracy=8.4%\n"
     ]
    },
    {
     "name": "stderr",
     "output_type": "stream",
     "text": [
      "Epoch 164: 100%|█████████████████████████████████████████████| 322/322 [01:56<00:00,  2.76batch/s, acc=0.08, loss=5.83]\n"
     ]
    },
    {
     "name": "stdout",
     "output_type": "stream",
     "text": [
      "Epoch 164 validation: Cross-entropy=5.82, Accuracy=8.4%\n"
     ]
    },
    {
     "name": "stderr",
     "output_type": "stream",
     "text": [
      "Epoch 165: 100%|█████████████████████████████████████████████| 322/322 [01:57<00:00,  2.74batch/s, acc=0.08, loss=5.83]\n"
     ]
    },
    {
     "name": "stdout",
     "output_type": "stream",
     "text": [
      "Epoch 165 validation: Cross-entropy=5.82, Accuracy=8.4%\n"
     ]
    },
    {
     "name": "stderr",
     "output_type": "stream",
     "text": [
      "Epoch 166: 100%|█████████████████████████████████████████████| 322/322 [01:57<00:00,  2.73batch/s, acc=0.08, loss=5.83]\n"
     ]
    },
    {
     "name": "stdout",
     "output_type": "stream",
     "text": [
      "Epoch 166 validation: Cross-entropy=5.82, Accuracy=8.4%\n"
     ]
    },
    {
     "name": "stderr",
     "output_type": "stream",
     "text": [
      "Epoch 167: 100%|█████████████████████████████████████████████| 322/322 [01:59<00:00,  2.70batch/s, acc=0.08, loss=5.83]\n"
     ]
    },
    {
     "name": "stdout",
     "output_type": "stream",
     "text": [
      "Epoch 167 validation: Cross-entropy=5.82, Accuracy=8.4%\n"
     ]
    },
    {
     "name": "stderr",
     "output_type": "stream",
     "text": [
      "Epoch 168: 100%|█████████████████████████████████████████████| 322/322 [02:00<00:00,  2.67batch/s, acc=0.08, loss=5.83]\n"
     ]
    },
    {
     "name": "stdout",
     "output_type": "stream",
     "text": [
      "Epoch 168 validation: Cross-entropy=5.82, Accuracy=8.4%\n"
     ]
    },
    {
     "name": "stderr",
     "output_type": "stream",
     "text": [
      "Epoch 169: 100%|█████████████████████████████████████████████| 322/322 [02:00<00:00,  2.67batch/s, acc=0.08, loss=5.83]\n"
     ]
    },
    {
     "name": "stdout",
     "output_type": "stream",
     "text": [
      "Epoch 169 validation: Cross-entropy=5.82, Accuracy=8.4%\n"
     ]
    },
    {
     "name": "stderr",
     "output_type": "stream",
     "text": [
      "Epoch 170: 100%|█████████████████████████████████████████████| 322/322 [02:01<00:00,  2.64batch/s, acc=0.08, loss=5.83]\n"
     ]
    },
    {
     "name": "stdout",
     "output_type": "stream",
     "text": [
      "Epoch 170 validation: Cross-entropy=5.82, Accuracy=8.4%\n"
     ]
    },
    {
     "name": "stderr",
     "output_type": "stream",
     "text": [
      "Epoch 171: 100%|█████████████████████████████████████████████| 322/322 [02:02<00:00,  2.62batch/s, acc=0.08, loss=5.83]\n"
     ]
    },
    {
     "name": "stdout",
     "output_type": "stream",
     "text": [
      "Epoch 171 validation: Cross-entropy=5.82, Accuracy=8.4%\n"
     ]
    },
    {
     "name": "stderr",
     "output_type": "stream",
     "text": [
      "Epoch 172: 100%|█████████████████████████████████████████████| 322/322 [02:03<00:00,  2.60batch/s, acc=0.08, loss=5.83]\n"
     ]
    },
    {
     "name": "stdout",
     "output_type": "stream",
     "text": [
      "Epoch 172 validation: Cross-entropy=5.82, Accuracy=8.4%\n"
     ]
    },
    {
     "name": "stderr",
     "output_type": "stream",
     "text": [
      "Epoch 173: 100%|█████████████████████████████████████████████| 322/322 [02:04<00:00,  2.58batch/s, acc=0.08, loss=5.83]\n"
     ]
    },
    {
     "name": "stdout",
     "output_type": "stream",
     "text": [
      "Epoch 173 validation: Cross-entropy=5.82, Accuracy=8.4%\n"
     ]
    },
    {
     "name": "stderr",
     "output_type": "stream",
     "text": [
      "Epoch 174: 100%|█████████████████████████████████████████████| 322/322 [02:05<00:00,  2.56batch/s, acc=0.08, loss=5.83]\n"
     ]
    },
    {
     "name": "stdout",
     "output_type": "stream",
     "text": [
      "Epoch 174 validation: Cross-entropy=5.82, Accuracy=8.4%\n"
     ]
    },
    {
     "name": "stderr",
     "output_type": "stream",
     "text": [
      "Epoch 175: 100%|█████████████████████████████████████████████| 322/322 [02:06<00:00,  2.55batch/s, acc=0.08, loss=5.83]\n"
     ]
    },
    {
     "name": "stdout",
     "output_type": "stream",
     "text": [
      "Epoch 175 validation: Cross-entropy=5.82, Accuracy=8.4%\n"
     ]
    },
    {
     "name": "stderr",
     "output_type": "stream",
     "text": [
      "Epoch 176: 100%|█████████████████████████████████████████████| 322/322 [02:07<00:00,  2.53batch/s, acc=0.08, loss=5.83]\n"
     ]
    },
    {
     "name": "stdout",
     "output_type": "stream",
     "text": [
      "Epoch 176 validation: Cross-entropy=5.82, Accuracy=8.4%\n"
     ]
    },
    {
     "name": "stderr",
     "output_type": "stream",
     "text": [
      "Epoch 177: 100%|█████████████████████████████████████████████| 322/322 [02:08<00:00,  2.51batch/s, acc=0.08, loss=5.83]\n"
     ]
    },
    {
     "name": "stdout",
     "output_type": "stream",
     "text": [
      "Epoch 177 validation: Cross-entropy=5.82, Accuracy=8.4%\n"
     ]
    },
    {
     "name": "stderr",
     "output_type": "stream",
     "text": [
      "Epoch 178: 100%|█████████████████████████████████████████████| 322/322 [02:07<00:00,  2.52batch/s, acc=0.08, loss=5.83]\n"
     ]
    },
    {
     "name": "stdout",
     "output_type": "stream",
     "text": [
      "Epoch 178 validation: Cross-entropy=5.82, Accuracy=8.4%\n"
     ]
    },
    {
     "name": "stderr",
     "output_type": "stream",
     "text": [
      "Epoch 179: 100%|█████████████████████████████████████████████| 322/322 [02:07<00:00,  2.52batch/s, acc=0.08, loss=5.83]\n"
     ]
    },
    {
     "name": "stdout",
     "output_type": "stream",
     "text": [
      "Epoch 179 validation: Cross-entropy=5.82, Accuracy=8.4%\n"
     ]
    },
    {
     "name": "stderr",
     "output_type": "stream",
     "text": [
      "Epoch 180: 100%|█████████████████████████████████████████████| 322/322 [02:07<00:00,  2.52batch/s, acc=0.08, loss=5.83]\n"
     ]
    },
    {
     "name": "stdout",
     "output_type": "stream",
     "text": [
      "Epoch 180 validation: Cross-entropy=5.82, Accuracy=8.4%\n"
     ]
    },
    {
     "name": "stderr",
     "output_type": "stream",
     "text": [
      "Epoch 181: 100%|█████████████████████████████████████████████| 322/322 [02:08<00:00,  2.51batch/s, acc=0.08, loss=5.83]\n"
     ]
    },
    {
     "name": "stdout",
     "output_type": "stream",
     "text": [
      "Epoch 181 validation: Cross-entropy=5.82, Accuracy=8.4%\n"
     ]
    },
    {
     "name": "stderr",
     "output_type": "stream",
     "text": [
      "Epoch 182: 100%|█████████████████████████████████████████████| 322/322 [02:08<00:00,  2.50batch/s, acc=0.08, loss=5.83]\n"
     ]
    },
    {
     "name": "stdout",
     "output_type": "stream",
     "text": [
      "Epoch 182 validation: Cross-entropy=5.82, Accuracy=8.4%\n"
     ]
    },
    {
     "name": "stderr",
     "output_type": "stream",
     "text": [
      "Epoch 183: 100%|█████████████████████████████████████████████| 322/322 [02:08<00:00,  2.50batch/s, acc=0.08, loss=5.83]\n"
     ]
    },
    {
     "name": "stdout",
     "output_type": "stream",
     "text": [
      "Epoch 183 validation: Cross-entropy=5.82, Accuracy=8.4%\n"
     ]
    },
    {
     "name": "stderr",
     "output_type": "stream",
     "text": [
      "Epoch 184: 100%|█████████████████████████████████████████████| 322/322 [02:08<00:00,  2.50batch/s, acc=0.08, loss=5.83]\n"
     ]
    },
    {
     "name": "stdout",
     "output_type": "stream",
     "text": [
      "Epoch 184 validation: Cross-entropy=5.82, Accuracy=8.4%\n"
     ]
    },
    {
     "name": "stderr",
     "output_type": "stream",
     "text": [
      "Epoch 185: 100%|█████████████████████████████████████████████| 322/322 [02:09<00:00,  2.49batch/s, acc=0.08, loss=5.83]\n"
     ]
    },
    {
     "name": "stdout",
     "output_type": "stream",
     "text": [
      "Epoch 185 validation: Cross-entropy=5.82, Accuracy=8.4%\n"
     ]
    },
    {
     "name": "stderr",
     "output_type": "stream",
     "text": [
      "Epoch 186: 100%|█████████████████████████████████████████████| 322/322 [02:09<00:00,  2.48batch/s, acc=0.08, loss=5.83]\n"
     ]
    },
    {
     "name": "stdout",
     "output_type": "stream",
     "text": [
      "Epoch 186 validation: Cross-entropy=5.82, Accuracy=8.4%\n"
     ]
    },
    {
     "name": "stderr",
     "output_type": "stream",
     "text": [
      "Epoch 187: 100%|█████████████████████████████████████████████| 322/322 [02:09<00:00,  2.49batch/s, acc=0.08, loss=5.83]\n"
     ]
    },
    {
     "name": "stdout",
     "output_type": "stream",
     "text": [
      "Epoch 187 validation: Cross-entropy=5.82, Accuracy=8.4%\n"
     ]
    },
    {
     "name": "stderr",
     "output_type": "stream",
     "text": [
      "Epoch 188: 100%|█████████████████████████████████████████████| 322/322 [02:09<00:00,  2.48batch/s, acc=0.08, loss=5.83]\n"
     ]
    },
    {
     "name": "stdout",
     "output_type": "stream",
     "text": [
      "Epoch 188 validation: Cross-entropy=5.82, Accuracy=8.4%\n"
     ]
    },
    {
     "name": "stderr",
     "output_type": "stream",
     "text": [
      "Epoch 189: 100%|█████████████████████████████████████████████| 322/322 [02:10<00:00,  2.47batch/s, acc=0.08, loss=5.83]\n"
     ]
    },
    {
     "name": "stdout",
     "output_type": "stream",
     "text": [
      "Epoch 189 validation: Cross-entropy=5.82, Accuracy=8.4%\n"
     ]
    },
    {
     "name": "stderr",
     "output_type": "stream",
     "text": [
      "Epoch 190: 100%|█████████████████████████████████████████████| 322/322 [02:11<00:00,  2.46batch/s, acc=0.08, loss=5.83]\n"
     ]
    },
    {
     "name": "stdout",
     "output_type": "stream",
     "text": [
      "Epoch 190 validation: Cross-entropy=5.82, Accuracy=8.4%\n"
     ]
    },
    {
     "name": "stderr",
     "output_type": "stream",
     "text": [
      "Epoch 191: 100%|█████████████████████████████████████████████| 322/322 [02:10<00:00,  2.46batch/s, acc=0.08, loss=5.83]\n"
     ]
    },
    {
     "name": "stdout",
     "output_type": "stream",
     "text": [
      "Epoch 191 validation: Cross-entropy=5.82, Accuracy=8.4%\n"
     ]
    },
    {
     "name": "stderr",
     "output_type": "stream",
     "text": [
      "Epoch 192: 100%|█████████████████████████████████████████████| 322/322 [02:10<00:00,  2.46batch/s, acc=0.08, loss=5.83]\n"
     ]
    },
    {
     "name": "stdout",
     "output_type": "stream",
     "text": [
      "Epoch 192 validation: Cross-entropy=5.82, Accuracy=8.4%\n"
     ]
    },
    {
     "name": "stderr",
     "output_type": "stream",
     "text": [
      "Epoch 193: 100%|█████████████████████████████████████████████| 322/322 [02:11<00:00,  2.46batch/s, acc=0.08, loss=5.83]\n"
     ]
    },
    {
     "name": "stdout",
     "output_type": "stream",
     "text": [
      "Epoch 193 validation: Cross-entropy=5.82, Accuracy=8.4%\n"
     ]
    },
    {
     "name": "stderr",
     "output_type": "stream",
     "text": [
      "Epoch 194: 100%|█████████████████████████████████████████████| 322/322 [02:11<00:00,  2.45batch/s, acc=0.08, loss=5.83]\n"
     ]
    },
    {
     "name": "stdout",
     "output_type": "stream",
     "text": [
      "Epoch 194 validation: Cross-entropy=5.82, Accuracy=8.4%\n"
     ]
    },
    {
     "name": "stderr",
     "output_type": "stream",
     "text": [
      "Epoch 195: 100%|█████████████████████████████████████████████| 322/322 [02:11<00:00,  2.46batch/s, acc=0.08, loss=5.83]\n"
     ]
    },
    {
     "name": "stdout",
     "output_type": "stream",
     "text": [
      "Epoch 195 validation: Cross-entropy=5.82, Accuracy=8.4%\n"
     ]
    },
    {
     "name": "stderr",
     "output_type": "stream",
     "text": [
      "Epoch 196: 100%|█████████████████████████████████████████████| 322/322 [02:11<00:00,  2.45batch/s, acc=0.08, loss=5.83]\n"
     ]
    },
    {
     "name": "stdout",
     "output_type": "stream",
     "text": [
      "Epoch 196 validation: Cross-entropy=5.82, Accuracy=8.4%\n"
     ]
    },
    {
     "name": "stderr",
     "output_type": "stream",
     "text": [
      "Epoch 197: 100%|█████████████████████████████████████████████| 322/322 [02:11<00:00,  2.45batch/s, acc=0.08, loss=5.83]\n"
     ]
    },
    {
     "name": "stdout",
     "output_type": "stream",
     "text": [
      "Epoch 197 validation: Cross-entropy=5.82, Accuracy=8.4%\n"
     ]
    },
    {
     "name": "stderr",
     "output_type": "stream",
     "text": [
      "Epoch 198: 100%|█████████████████████████████████████████████| 322/322 [02:12<00:00,  2.44batch/s, acc=0.08, loss=5.83]\n"
     ]
    },
    {
     "name": "stdout",
     "output_type": "stream",
     "text": [
      "Epoch 198 validation: Cross-entropy=5.82, Accuracy=8.4%\n"
     ]
    },
    {
     "name": "stderr",
     "output_type": "stream",
     "text": [
      "Epoch 199: 100%|█████████████████████████████████████████████| 322/322 [02:11<00:00,  2.44batch/s, acc=0.08, loss=5.83]\n"
     ]
    },
    {
     "name": "stdout",
     "output_type": "stream",
     "text": [
      "Epoch 199 validation: Cross-entropy=5.82, Accuracy=8.4%\n"
     ]
    },
    {
     "data": {
      "text/plain": [
       "<All keys matched successfully>"
      ]
     },
     "execution_count": 45,
     "metadata": {},
     "output_type": "execute_result"
    }
   ],
   "source": [
    "# training loop\n",
    "for epoch in range(n_epochs):\n",
    "    epoch_loss = []\n",
    "    epoch_acc = []\n",
    "    # set model in training mode and run through each batch\n",
    "    model.train()\n",
    "    with tqdm.trange(batches_per_epoch, unit=\"batch\", mininterval=0) as bar:\n",
    "        bar.set_description(f\"Epoch {epoch}\")\n",
    "        for i in bar:\n",
    "            # take a batch\n",
    "            start = i * batch_size\n",
    "            X_batch = X_train[start:start+batch_size]\n",
    "            y_batch = y_train[start:start+batch_size]\n",
    "            # forward pass\n",
    "            y_pred = model(X_batch)\n",
    "            loss = loss_fn(y_pred, y_batch)\n",
    "            # backward pass\n",
    "            optimizer.zero_grad()\n",
    "            loss.backward()\n",
    "            # update weights\n",
    "            optimizer.step()\n",
    "            # compute and store metrics\n",
    "            acc = (torch.argmax(y_pred, 1) == torch.argmax(y_batch, 1)).float().mean()\n",
    "            epoch_loss.append(float(loss))\n",
    "            epoch_acc.append(float(acc))\n",
    "            bar.set_postfix(\n",
    "                loss=float(loss),\n",
    "                acc=float(acc)\n",
    "            )\n",
    "    # set model in evaluation mode and run through the test set\n",
    "    model.eval()\n",
    "    y_pred = model(X_test)\n",
    "    ce = loss_fn(y_pred, y_test)\n",
    "    acc = (torch.argmax(y_pred, 1) == torch.argmax(y_test, 1)).float().mean()\n",
    "    ce = float(ce)\n",
    "    acc = float(acc)\n",
    "    train_loss_hist.append(np.mean(epoch_loss))\n",
    "    train_acc_hist.append(np.mean(epoch_acc))\n",
    "    test_loss_hist.append(ce)\n",
    "    test_acc_hist.append(acc)\n",
    "    if acc > best_acc:\n",
    "        best_acc = acc\n",
    "        best_weights = copy.deepcopy(model.state_dict())\n",
    "    print(f\"Epoch {epoch} validation: Cross-entropy={ce:.2f}, Accuracy={acc*100:.1f}%\")\n",
    "\n",
    "# Restore best model\n",
    "model.load_state_dict(best_weights)"
   ]
  },
  {
   "cell_type": "code",
   "execution_count": 46,
   "id": "414b6470",
   "metadata": {},
   "outputs": [
    {
     "data": {
      "image/png": "[encoded data removed]",
      "text/plain": [
       "<Figure size 640x480 with 1 Axes>"
      ]
     },
     "metadata": {},
     "output_type": "display_data"
    },
    {
     "data": {
      "image/png": "[encoded data removed]",
      "text/plain": [
       "<Figure size 640x480 with 1 Axes>"
      ]
     },
     "metadata": {},
     "output_type": "display_data"
    }
   ],
   "source": [
    "\n",
    "\n",
    "# Plot the loss and accuracy\n",
    "plt.plot(train_loss_hist, label=\"train\")\n",
    "plt.plot(test_loss_hist, label=\"test\")\n",
    "plt.xlabel(\"epochs\")\n",
    "plt.ylabel(\"cross entropy\")\n",
    "plt.legend()\n",
    "plt.show()\n",
    "\n",
    "plt.plot(train_acc_hist, label=\"train\")\n",
    "plt.plot(test_acc_hist, label=\"test\")\n",
    "plt.xlabel(\"epochs\")\n",
    "plt.ylabel(\"accuracy\")\n",
    "plt.legend()\n",
    "plt.show()"
   ]
  }
 ],
 "metadata": {
  "kernelspec": {
   "display_name": "Python 3 (ipykernel)",
   "language": "python",
   "name": "python3"
  },
  "language_info": {
   "codemirror_mode": {
    "name": "ipython",
    "version": 3
   },
   "file_extension": ".py",
   "mimetype": "text/x-python",
   "name": "python",
   "nbconvert_exporter": "python",
   "pygments_lexer": "ipython3",
   "version": "3.11.5"
  }
 },
 "nbformat": 4,
 "nbformat_minor": 5
}
